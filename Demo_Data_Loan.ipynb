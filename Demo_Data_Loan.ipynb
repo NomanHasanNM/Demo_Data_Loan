{
  "nbformat": 4,
  "nbformat_minor": 0,
  "metadata": {
    "colab": {
      "name": "Demo_Data_Loan",
      "provenance": [],
      "authorship_tag": "ABX9TyMat1zYOpoYLdSUn9e5sYMV",
      "include_colab_link": true
    },
    "kernelspec": {
      "name": "python3",
      "display_name": "Python 3"
    },
    "language_info": {
      "name": "python"
    }
  },
  "cells": [
    {
      "cell_type": "markdown",
      "metadata": {
        "id": "view-in-github",
        "colab_type": "text"
      },
      "source": [
        "<a href=\"https://colab.research.google.com/github/NomanHasanNM/Demo_Data_Loan/blob/main/Demo_Data_Loan.ipynb\" target=\"_parent\"><img src=\"https://colab.research.google.com/assets/colab-badge.svg\" alt=\"Open In Colab\"/></a>"
      ]
    },
    {
      "cell_type": "code",
      "execution_count": 2,
      "metadata": {
        "colab": {
          "resources": {
            "http://localhost:8080/nbextensions/google.colab/files.js": {
              "data": "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",
              "ok": true,
              "headers": [
                [
                  "content-type",
                  "application/javascript"
                ]
              ],
              "status": 200,
              "status_text": ""
            }
          },
          "base_uri": "https://localhost:8080/",
          "height": 110
        },
        "id": "wFMQpKLbevcT",
        "outputId": "f5532a71-4a61-4a4a-dd71-a324bf674deb"
      },
      "outputs": [
        {
          "output_type": "display_data",
          "data": {
            "text/plain": [
              "<IPython.core.display.HTML object>"
            ],
            "text/html": [
              "\n",
              "     <input type=\"file\" id=\"files-c8072566-ae7c-4cb7-a046-af0001eff4bd\" name=\"files[]\" multiple disabled\n",
              "        style=\"border:none\" />\n",
              "     <output id=\"result-c8072566-ae7c-4cb7-a046-af0001eff4bd\">\n",
              "      Upload widget is only available when the cell has been executed in the\n",
              "      current browser session. Please rerun this cell to enable.\n",
              "      </output>\n",
              "      <script src=\"/nbextensions/google.colab/files.js\"></script> "
            ]
          },
          "metadata": {}
        },
        {
          "output_type": "stream",
          "name": "stdout",
          "text": [
            "Saving Data_Loan.csv to Data_Loan.csv\n"
          ]
        },
        {
          "output_type": "execute_result",
          "data": {
            "text/plain": [
              "{'Data_Loan.csv': b'Loan_ID,Gender,Married,Dependents,Education,Self_Employed,ApplicantIncome,CoapplicantIncome,LoanAmount,Loan_Amount_Term,Credit_History,Property_Area,Loan Approved\\r\\nLP001015,Male,Yes,0,Graduate,No,5720,0,110,360,1,Urban,0\\r\\nLP001022,Male,Yes,1,Graduate,No,3076,1500,126,360,1,Urban,0\\r\\nLP001031,Male,Yes,2,Graduate,No,5000,1800,208,360,1,Urban,0\\r\\nLP001035,Male,Yes,2,Graduate,No,2340,2546,100,360,,Urban,0\\r\\nLP001051,Male,No,0,Not Graduate,No,3276,0,78,360,1,Urban,0\\r\\nLP001054,Male,Yes,0,Not Graduate,Yes,2165,3422,152,360,1,Urban,0\\r\\nLP001055,Female,No,1,Not Graduate,No,2226,0,59,360,1,Semiurban,0\\r\\nLP001056,Male,Yes,2,Not Graduate,No,3881,0,147,360,0,Rural,0\\r\\nLP001059,Male,Yes,2,Graduate,,13633,0,280,240,1,Urban,0\\r\\nLP001067,Male,No,0,Not Graduate,No,2400,2400,123,360,1,Semiurban,0\\r\\nLP001078,Male,No,0,Not Graduate,No,3091,0,90,360,1,Urban,0\\r\\nLP001082,Male,Yes,1,Graduate,,2185,1516,162,360,1,Semiurban,0\\r\\nLP001083,Male,No,3+,Graduate,No,4166,0,40,180,,Urban,0\\r\\nLP001094,Male,Yes,2,Graduate,,12173,0,166,360,0,Semiurban,0\\r\\nLP001096,Female,No,0,Graduate,No,4666,0,124,360,1,Semiurban,0\\r\\nLP001099,Male,No,1,Graduate,No,5667,0,131,360,1,Urban,0\\r\\nLP001105,Male,Yes,2,Graduate,No,4583,2916,200,360,1,Urban,1\\r\\nLP001107,Male,Yes,3+,Graduate,No,3786,333,126,360,1,Semiurban,0\\r\\nLP001108,Male,Yes,0,Graduate,No,9226,7916,300,360,1,Urban,0\\r\\nLP001115,Male,No,0,Graduate,No,1300,3470,100,180,1,Semiurban,0\\r\\nLP001121,Male,Yes,1,Not Graduate,No,1888,1620,48,360,1,Urban,0\\r\\nLP001124,Female,No,3+,Not Graduate,No,2083,0,28,180,1,Urban,1\\r\\nLP001128,,No,0,Graduate,No,3909,0,101,360,1,Urban,1\\r\\nLP001135,Female,No,0,Not Graduate,No,3765,0,125,360,1,Urban,1\\r\\nLP001149,Male,Yes,0,Graduate,No,5400,4380,290,360,1,Urban,0\\r\\nLP001153,Male,No,0,Graduate,No,0,24000,148,360,0,Rural,0\\r\\nLP001163,Male,Yes,2,Graduate,No,4363,1250,140,360,,Urban,0\\r\\nLP001169,Male,Yes,0,Graduate,No,7500,3750,275,360,1,Urban,0\\r\\nLP001174,Male,Yes,0,Graduate,No,3772,833,57,360,,Semiurban,0\\r\\nLP001176,Male,No,0,Graduate,No,2942,2382,125,180,1,Urban,0\\r\\nLP001177,Female,No,0,Not Graduate,No,2478,0,75,360,1,Semiurban,0\\r\\nLP001183,Male,Yes,2,Graduate,No,6250,820,192,360,1,Urban,1\\r\\nLP001185,Male,No,0,Graduate,No,3268,1683,152,360,1,Semiurban,0\\r\\nLP001187,Male,Yes,0,Graduate,No,2783,2708,158,360,1,Urban,1\\r\\nLP001190,Male,Yes,0,Graduate,No,2740,1541,101,360,1,Urban,0\\r\\nLP001203,Male,No,0,Graduate,No,3150,0,176,360,0,Semiurban,0\\r\\nLP001208,Male,Yes,2,Graduate,,7350,4029,185,180,1,Urban,0\\r\\nLP001210,Male,Yes,0,Graduate,Yes,2267,2792,90,360,1,Urban,0\\r\\nLP001211,Male,No,0,Graduate,Yes,5833,0,116,360,1,Urban,0\\r\\nLP001219,Male,No,0,Graduate,No,3643,1963,138,360,1,Urban,0\\r\\nLP001220,Male,Yes,0,Graduate,No,5629,818,100,360,1,Urban,0\\r\\nLP001221,Female,No,0,Graduate,No,3644,0,110,360,1,Urban,1\\r\\nLP001226,Male,Yes,0,Not Graduate,No,1750,2024,90,360,1,Semiurban,0\\r\\nLP001230,Male,No,0,Graduate,No,6500,2600,200,360,1,Semiurban,0\\r\\nLP001231,Female,No,0,Graduate,No,3666,0,84,360,1,Urban,0\\r\\nLP001232,Male,Yes,0,Graduate,No,4260,3900,185,,,Urban,0\\r\\nLP001237,Male,Yes,,Not Graduate,No,4163,1475,162,360,1,Urban,0\\r\\nLP001242,Male,No,0,Not Graduate,No,2356,1902,108,360,1,Semiurban,0\\r\\nLP001268,Male,No,0,Graduate,No,6792,3338,187,,1,Urban,0\\r\\nLP001270,Male,Yes,3+,Not Graduate,Yes,8000,250,187,360,1,Semiurban,1\\r\\nLP001284,Male,Yes,1,Graduate,No,2419,1707,124,360,1,Urban,0\\r\\nLP001287,,Yes,3+,Not Graduate,No,3500,833,120,360,1,Semiurban,0\\r\\nLP001291,Male,Yes,1,Graduate,No,3500,3077,160,360,1,Semiurban,0\\r\\nLP001298,Male,Yes,2,Graduate,No,4116,1000,30,180,1,Urban,0\\r\\nLP001312,Male,Yes,0,Not Graduate,Yes,5293,0,92,360,1,Urban,0\\r\\nLP001313,Male,No,0,Graduate,No,2750,0,130,360,0,Urban,0\\r\\nLP001317,Female,No,0,Not Graduate,No,4402,0,130,360,1,Rural,0\\r\\nLP001321,Male,Yes,2,Graduate,No,3613,3539,134,180,1,Semiurban,0\\r\\nLP001323,Female,Yes,2,Graduate,No,2779,3664,176,360,0,Semiurban,0\\r\\nLP001324,Male,Yes,3+,Graduate,No,4720,0,90,180,1,Semiurban,0\\r\\nLP001332,Male,Yes,0,Not Graduate,No,2415,1721,110,360,1,Semiurban,0\\r\\nLP001335,Male,Yes,0,Graduate,Yes,7016,292,125,360,1,Urban,0\\r\\nLP001338,Female,No,2,Graduate,No,4968,0,189,360,1,Semiurban,0\\r\\nLP001347,Female,No,0,Graduate,No,2101,1500,108,360,0,Rural,1\\r\\nLP001348,Male,Yes,3+,Not Graduate,No,4490,0,125,360,1,Urban,0\\r\\nLP001351,Male,Yes,0,Graduate,No,2917,3583,138,360,1,Semiurban,1\\r\\nLP001352,Male,Yes,0,Not Graduate,No,4700,0,135,360,0,Semiurban,1\\r\\nLP001358,Male,Yes,0,Graduate,No,3445,0,130,360,0,Semiurban,1\\r\\nLP001359,Male,Yes,0,Graduate,No,7666,0,187,360,1,Semiurban,1\\r\\nLP001361,Male,Yes,0,Graduate,No,2458,5105,188,360,0,Rural,1\\r\\nLP001366,Female,No,,Graduate,No,3250,0,95,360,1,Semiurban,0\\r\\nLP001368,Male,No,0,Graduate,No,4463,0,65,360,1,Semiurban,0\\r\\nLP001375,Male,Yes,1,Graduate,,4083,1775,139,60,1,Urban,0\\r\\nLP001380,Male,Yes,0,Graduate,Yes,3900,2094,232,360,1,Rural,0\\r\\nLP001386,Male,Yes,0,Not Graduate,No,4750,3583,144,360,1,Semiurban,0\\r\\nLP001400,Male,No,0,Graduate,No,3583,3435,155,360,1,Urban,0\\r\\nLP001407,Male,Yes,0,Graduate,No,3189,2367,186,360,1,Urban,0\\r\\nLP001413,Male,No,0,Graduate,Yes,6356,0,50,360,1,Rural,0\\r\\nLP001415,Male,Yes,1,Graduate,No,3413,4053,,360,1,Semiurban,0\\r\\nLP001419,Female,Yes,0,Graduate,No,7950,0,185,360,1,Urban,0\\r\\nLP001420,Male,Yes,3+,Graduate,No,3829,1103,163,360,0,Urban,0\\r\\nLP001428,Male,Yes,3+,Graduate,No,72529,0,360,360,1,Urban,0\\r\\nLP001445,Male,Yes,2,Not Graduate,No,4136,0,149,480,0,Rural,0\\r\\nLP001446,Male,Yes,0,Graduate,No,8449,0,257,360,1,Rural,0\\r\\nLP001450,Male,Yes,0,Graduate,No,4456,0,131,180,0,Semiurban,0\\r\\nLP001452,Male,Yes,2,Graduate,No,4635,8000,102,180,1,Rural,0\\r\\nLP001455,Male,Yes,0,Graduate,No,3571,1917,135,360,1,Urban,0\\r\\nLP001466,Male,No,0,Graduate,No,3066,0,95,360,1,Semiurban,0\\r\\nLP001471,Male,No,2,Not Graduate,No,3235,2015,77,360,1,Semiurban,0\\r\\nLP001472,Female,No,0,Graduate,,5058,0,200,360,1,Rural,0\\r\\nLP001475,Male,Yes,0,Graduate,Yes,3188,2286,130,360,,Rural,0\\r\\nLP001483,Male,Yes,3+,Graduate,No,13518,0,390,360,1,Rural,0\\r\\nLP001486,Male,Yes,1,Graduate,No,4364,2500,185,360,1,Semiurban,0\\r\\nLP001490,Male,Yes,2,Not Graduate,No,4766,1646,100,360,1,Semiurban,0\\r\\nLP001496,Male,Yes,1,Graduate,No,4609,2333,123,360,0,Semiurban,0\\r\\nLP001499,Female,Yes,3+,Graduate,No,6260,0,110,360,1,Semiurban,0\\r\\nLP001500,Male,Yes,1,Graduate,No,3333,4200,256,360,1,Urban,0\\r\\nLP001501,Male,Yes,0,Graduate,No,3500,3250,140,360,1,Semiurban,1\\r\\nLP001517,Male,Yes,3+,Graduate,No,9719,0,61,360,1,Urban,1\\r\\nLP001527,Male,Yes,3+,Graduate,No,6835,0,188,360,,Semiurban,1\\r\\nLP001534,Male,No,0,Graduate,No,4452,0,131,360,1,Rural,0\\r\\nLP001542,Female,Yes,0,Graduate,No,2262,0,,480,0,Semiurban,0\\r\\nLP001547,Male,Yes,1,Graduate,No,3901,0,116,360,1,Urban,0\\r\\nLP001548,Male,Yes,2,Not Graduate,No,2687,0,50,180,1,Rural,0\\r\\nLP001558,Male,No,0,Graduate,No,2243,2233,107,360,,Semiurban,0\\r\\nLP001561,Female,Yes,0,Graduate,No,3417,1287,200,360,1,Semiurban,0\\r\\nLP001563,,No,0,Graduate,No,1596,1760,119,360,0,Urban,0\\r\\nLP001567,Male,Yes,3+,Graduate,No,4513,0,120,360,1,Rural,0\\r\\nLP001568,Male,Yes,0,Graduate,No,4500,0,140,360,1,Semiurban,0\\r\\nLP001573,Male,Yes,0,Not Graduate,No,4523,1350,165,360,1,Urban,0\\r\\nLP001584,Female,No,0,Graduate,Yes,4742,0,108,360,1,Semiurban,0\\r\\nLP001587,Male,Yes,,Graduate,No,4082,0,93,360,1,Semiurban,0\\r\\nLP001589,Female,No,0,Graduate,No,3417,0,102,360,1,Urban,0\\r\\nLP001591,Female,Yes,2,Graduate,No,2922,3396,122,360,1,Semiurban,0\\r\\nLP001599,Male,Yes,0,Graduate,No,4167,4754,160,360,1,Rural,0\\r\\nLP001601,Male,No,3+,Graduate,No,4243,4123,157,360,,Semiurban,0\\r\\nLP001607,Female,No,0,Not Graduate,No,0,1760,180,360,1,Semiurban,0\\r\\nLP001611,Male,Yes,1,Graduate,No,1516,2900,80,,0,Rural,0\\r\\nLP001613,Female,No,0,Graduate,No,1762,2666,104,360,0,Urban,0\\r\\nLP001622,Male,Yes,2,Graduate,No,724,3510,213,360,0,Rural,0\\r\\nLP001627,Male,No,0,Graduate,No,3125,0,65,360,1,Urban,0\\r\\nLP001650,Male,Yes,0,Graduate,No,2333,3803,146,360,1,Rural,0\\r\\nLP001651,Male,Yes,3+,Graduate,No,3350,1560,135,360,1,Urban,0\\r\\nLP001652,Male,No,0,Graduate,No,2500,6414,187,360,0,Rural,0\\r\\nLP001655,Female,No,0,Graduate,No,12500,0,300,360,0,Urban,0\\r\\nLP001660,Male,No,0,Graduate,No,4667,0,120,360,1,Semiurban,0\\r\\nLP001662,Male,No,0,Graduate,No,6500,0,71,360,0,Urban,0\\r\\nLP001663,Male,Yes,2,Graduate,No,7500,0,225,360,1,Urban,0\\r\\nLP001667,Male,No,0,Graduate,No,3073,0,70,180,1,Urban,0\\r\\nLP001695,Male,Yes,1,Not Graduate,No,3321,2088,70,,1,Semiurban,0\\r\\nLP001703,Male,Yes,0,Graduate,No,3333,1270,124,360,1,Urban,0\\r\\nLP001718,Male,No,0,Graduate,No,3391,0,132,360,1,Rural,0\\r\\nLP001728,Male,Yes,1,Graduate,Yes,3343,1517,105,360,1,Rural,0\\r\\nLP001735,Female,No,1,Graduate,No,3620,0,90,360,1,Urban,0\\r\\nLP001737,Male,No,0,Graduate,No,4000,0,83,84,1,Urban,0\\r\\nLP001739,Male,Yes,0,Graduate,No,4258,0,125,360,1,Urban,0\\r\\nLP001742,Male,Yes,2,Graduate,No,4500,0,147,360,1,Rural,0\\r\\nLP001757,Male,Yes,1,Graduate,No,2014,2925,120,360,1,Rural,0\\r\\nLP001769,,No,,Graduate,No,3333,1250,110,360,1,Semiurban,0\\r\\nLP001771,Female,No,3+,Graduate,No,4083,0,103,360,,Semiurban,0\\r\\nLP001785,Male,No,0,Graduate,No,4727,0,150,360,0,Rural,0\\r\\nLP001787,Male,Yes,3+,Graduate,No,3089,2999,100,240,1,Rural,0\\r\\nLP001789,Male,Yes,3+,Not Graduate,,6794,528,139,360,0,Urban,0\\r\\nLP001791,Male,Yes,0,Graduate,Yes,32000,0,550,360,,Semiurban,0\\r\\nLP001794,Male,Yes,2,Graduate,Yes,10890,0,260,12,1,Rural,0\\r\\nLP001797,Female,No,0,Graduate,No,12941,0,150,300,1,Urban,0\\r\\nLP001815,Male,No,0,Not Graduate,No,3276,0,90,360,1,Semiurban,0\\r\\nLP001817,Male,No,0,Not Graduate,Yes,8703,0,199,360,0,Rural,0\\r\\nLP001818,Male,Yes,1,Graduate,No,4742,717,139,360,1,Semiurban,0\\r\\nLP001822,Male,No,0,Graduate,No,5900,0,150,360,1,Urban,0\\r\\nLP001827,Male,No,0,Graduate,No,3071,4309,180,360,1,Urban,0\\r\\nLP001831,Male,Yes,0,Graduate,No,2783,1456,113,360,1,Urban,0\\r\\nLP001842,Male,No,0,Graduate,No,5000,0,148,360,1,Rural,0\\r\\nLP001853,Male,Yes,1,Not Graduate,No,2463,2360,117,360,0,Urban,0\\r\\nLP001855,Male,Yes,2,Graduate,No,4855,0,72,360,1,Rural,0\\r\\nLP001857,Male,No,0,Not Graduate,Yes,1599,2474,125,300,1,Semiurban,0\\r\\nLP001862,Male,Yes,2,Graduate,Yes,4246,4246,214,360,1,Urban,0\\r\\nLP001867,Male,Yes,0,Graduate,No,4333,2291,133,350,1,Rural,0\\r\\nLP001878,Male,No,1,Graduate,No,5823,2529,187,360,1,Semiurban,0\\r\\nLP001881,Male,Yes,0,Not Graduate,No,7895,0,143,360,1,Rural,0\\r\\nLP001886,Male,No,0,Graduate,No,4150,4256,209,360,1,Rural,0\\r\\nLP001906,Male,No,0,Graduate,,2964,0,84,360,0,Semiurban,0\\r\\nLP001909,Male,No,0,Graduate,No,5583,0,116,360,1,Urban,0\\r\\nLP001911,Female,No,0,Graduate,No,2708,0,65,360,1,Rural,0\\r\\nLP001921,Male,No,1,Graduate,No,3180,2370,80,240,,Rural,0\\r\\nLP001923,Male,No,0,Not Graduate,No,2268,0,170,360,0,Semiurban,0\\r\\nLP001933,Male,No,2,Not Graduate,No,1141,2017,120,360,0,Urban,0\\r\\nLP001943,Male,Yes,0,Graduate,No,3042,3167,135,360,1,Urban,0\\r\\nLP001950,Female,Yes,3+,Graduate,,1750,2935,94,360,0,Semiurban,0\\r\\nLP001959,Female,Yes,1,Graduate,No,3564,0,79,360,1,Rural,0\\r\\nLP001961,Female,No,0,Graduate,No,3958,0,110,360,1,Rural,0\\r\\nLP001973,Male,Yes,2,Not Graduate,No,4483,0,130,360,1,Rural,0\\r\\nLP001975,Male,Yes,0,Graduate,No,5225,0,143,360,1,Rural,0\\r\\nLP001979,Male,No,0,Graduate,No,3017,2845,159,180,0,Urban,0\\r\\nLP001995,Male,Yes,0,Not Graduate,No,2431,1820,110,360,0,Rural,0\\r\\nLP001999,Male,Yes,2,Graduate,,4912,4614,160,360,1,Rural,0\\r\\nLP002007,Male,Yes,2,Not Graduate,No,2500,3333,131,360,1,Urban,0\\r\\nLP002009,Female,No,0,Graduate,No,2918,0,65,360,,Rural,0\\r\\nLP002016,Male,Yes,2,Graduate,No,5128,0,143,360,1,Rural,0\\r\\nLP002017,Male,Yes,3+,Graduate,No,15312,0,187,360,,Urban,0\\r\\nLP002018,Male,Yes,2,Graduate,No,3958,2632,160,360,1,Semiurban,0\\r\\nLP002027,Male,Yes,0,Graduate,No,4334,2945,165,360,1,Semiurban,0\\r\\nLP002028,Male,Yes,2,Graduate,No,4358,0,110,360,1,Urban,0\\r\\nLP002042,Female,Yes,1,Graduate,No,4000,3917,173,360,1,Rural,0\\r\\nLP002045,Male,Yes,3+,Graduate,No,10166,750,150,,1,Urban,0\\r\\nLP002046,Male,Yes,0,Not Graduate,No,4483,0,135,360,,Semiurban,0\\r\\nLP002047,Male,Yes,2,Not Graduate,No,4521,1184,150,360,1,Semiurban,0\\r\\nLP002056,Male,Yes,2,Graduate,No,9167,0,235,360,1,Semiurban,0\\r\\nLP002057,Male,Yes,0,Not Graduate,No,13083,0,,360,1,Rural,0\\r\\nLP002059,Male,Yes,2,Graduate,No,7874,3967,336,360,1,Rural,0\\r\\nLP002062,Female,Yes,1,Graduate,No,4333,0,132,84,1,Rural,0\\r\\nLP002064,Male,No,0,Graduate,No,4083,0,96,360,1,Urban,0\\r\\nLP002069,Male,Yes,2,Not Graduate,,3785,2912,180,360,0,Rural,0\\r\\nLP002070,Male,Yes,3+,Not Graduate,No,2654,1998,128,360,0,Rural,0\\r\\nLP002077,Male,Yes,1,Graduate,No,10000,2690,412,360,1,Semiurban,0\\r\\nLP002083,Male,No,0,Graduate,Yes,5833,0,116,360,1,Urban,0\\r\\nLP002090,Male,Yes,1,Graduate,No,4796,0,114,360,0,Semiurban,0\\r\\nLP002096,Male,Yes,0,Not Graduate,No,2000,1600,115,360,1,Rural,0\\r\\nLP002099,Male,Yes,2,Graduate,No,2540,700,104,360,0,Urban,0\\r\\nLP002102,Male,Yes,0,Graduate,Yes,1900,1442,88,360,1,Rural,0\\r\\nLP002105,Male,Yes,0,Graduate,Yes,8706,0,108,480,1,Rural,0\\r\\nLP002107,Male,Yes,3+,Not Graduate,No,2855,542,90,360,1,Urban,0\\r\\nLP002111,Male,Yes,,Graduate,No,3016,1300,100,360,,Urban,0\\r\\nLP002117,Female,Yes,0,Graduate,No,3159,2374,108,360,1,Semiurban,0\\r\\nLP002118,Female,No,0,Graduate,No,1937,1152,78,360,1,Semiurban,0\\r\\nLP002123,Male,Yes,0,Graduate,No,2613,2417,123,360,1,Semiurban,0\\r\\nLP002125,Male,Yes,1,Graduate,No,4960,2600,187,360,1,Semiurban,0\\r\\nLP002148,Male,Yes,1,Graduate,No,3074,1083,146,360,1,Semiurban,0\\r\\nLP002152,Female,No,0,Graduate,No,4213,0,80,360,1,Urban,0\\r\\nLP002165,,No,1,Not Graduate,No,2038,4027,100,360,1,Rural,0\\r\\nLP002167,Female,No,0,Graduate,No,2362,0,55,360,1,Urban,0\\r\\nLP002168,Male,No,0,Graduate,No,5333,2400,200,360,0,Rural,0\\r\\nLP002172,Male,Yes,3+,Graduate,Yes,5384,0,150,360,1,Semiurban,0\\r\\nLP002176,Male,No,0,Graduate,No,5708,0,150,360,1,Rural,0\\r\\nLP002183,Male,Yes,0,Not Graduate,No,3754,3719,118,,1,Rural,0\\r\\nLP002184,Male,Yes,0,Not Graduate,No,2914,2130,150,300,1,Urban,0\\r\\nLP002186,Male,Yes,0,Not Graduate,No,2747,2458,118,36,1,Semiurban,1\\r\\nLP002192,Male,Yes,0,Graduate,No,7830,2183,212,360,1,Rural,1\\r\\nLP002195,Male,Yes,1,Graduate,Yes,3507,3148,212,360,1,Rural,1\\r\\nLP002208,Male,Yes,1,Graduate,No,3747,2139,125,360,1,Urban,1\\r\\nLP002212,Male,Yes,0,Graduate,No,2166,2166,108,360,,Urban,1\\r\\nLP002240,Male,Yes,0,Not Graduate,No,3500,2168,149,360,1,Rural,1\\r\\nLP002245,Male,Yes,2,Not Graduate,No,2896,0,80,480,1,Urban,1\\r\\nLP002253,Female,No,1,Graduate,No,5062,0,152,300,1,Rural,1\\r\\nLP002256,Female,No,2,Graduate,Yes,5184,0,187,360,0,Semiurban,1\\r\\nLP002257,Female,No,0,Graduate,No,2545,0,74,360,1,Urban,0\\r\\nLP002264,Male,Yes,0,Graduate,No,2553,1768,102,360,1,Urban,0\\r\\nLP002270,Male,Yes,1,Graduate,No,3436,3809,100,360,1,Rural,0\\r\\nLP002279,Male,No,0,Graduate,No,2412,2755,130,360,1,Rural,0\\r\\nLP002286,Male,Yes,3+,Not Graduate,No,5180,0,125,360,0,Urban,0\\r\\nLP002294,Male,No,0,Graduate,No,14911,14507,130,360,1,Semiurban,0\\r\\nLP002298,,No,0,Graduate,Yes,2860,2988,138,360,1,Urban,0\\r\\nLP002306,Male,Yes,0,Graduate,No,1173,1594,28,180,1,Rural,0\\r\\nLP002310,Female,No,1,Graduate,No,7600,0,92,360,1,Semiurban,0\\r\\nLP002311,Female,Yes,0,Graduate,No,2157,1788,104,360,1,Urban,0\\r\\nLP002316,Male,No,0,Graduate,No,2231,2774,176,360,0,Urban,0\\r\\nLP002321,Female,No,0,Graduate,No,2274,5211,117,360,0,Semiurban,0\\r\\nLP002325,Male,Yes,2,Not Graduate,No,6166,13983,102,360,1,Rural,0\\r\\nLP002326,Male,Yes,2,Not Graduate,No,2513,1110,107,360,1,Semiurban,0\\r\\nLP002329,Male,No,0,Graduate,No,4333,0,66,480,1,Urban,0\\r\\nLP002333,Male,No,0,Not Graduate,No,3844,0,105,360,1,Urban,0\\r\\nLP002339,Male,Yes,0,Graduate,No,3887,1517,105,360,0,Semiurban,0\\r\\nLP002344,Male,Yes,0,Graduate,No,3510,828,105,360,1,Semiurban,0\\r\\nLP002346,Male,Yes,0,Graduate,,2539,1704,125,360,0,Rural,0\\r\\nLP002354,Female,No,0,Not Graduate,No,2107,0,64,360,1,Semiurban,0\\r\\nLP002355,,Yes,0,Graduate,No,3186,3145,150,180,0,Semiurban,0\\r\\nLP002358,Male,Yes,2,Graduate,Yes,5000,2166,150,360,1,Urban,0\\r\\nLP002360,Male,Yes,,Graduate,No,10000,0,,360,1,Urban,0\\r\\nLP002375,Male,Yes,0,Not Graduate,Yes,3943,0,64,360,1,Semiurban,0\\r\\nLP002376,Male,No,0,Graduate,No,2925,0,40,180,1,Rural,0\\r\\nLP002383,Male,Yes,3+,Graduate,No,3242,437,142,480,0,Urban,0\\r\\nLP002385,Male,Yes,,Graduate,No,3863,0,70,300,1,Semiurban,0\\r\\nLP002389,Female,No,1,Graduate,No,4028,0,131,360,1,Semiurban,0\\r\\nLP002394,Male,Yes,2,Graduate,No,4010,1025,120,360,1,Urban,0\\r\\nLP002397,Female,Yes,1,Graduate,No,3719,1585,114,360,1,Urban,0\\r\\nLP002399,Male,No,0,Graduate,,2858,0,123,360,0,Rural,0\\r\\nLP002400,Female,Yes,0,Graduate,No,3833,0,92,360,1,Rural,0\\r\\nLP002402,Male,Yes,0,Graduate,No,3333,4288,160,360,1,Urban,0\\r\\nLP002412,Male,Yes,0,Graduate,No,3007,3725,151,360,1,Rural,0\\r\\nLP002415,Female,No,1,Graduate,,1850,4583,81,360,,Rural,0\\r\\nLP002417,Male,Yes,3+,Not Graduate,No,2792,2619,171,360,1,Semiurban,0\\r\\nLP002420,Male,Yes,0,Graduate,No,2982,1550,110,360,1,Semiurban,0\\r\\nLP002425,Male,No,0,Graduate,No,3417,738,100,360,,Rural,0\\r\\nLP002433,Male,Yes,1,Graduate,No,18840,0,234,360,1,Rural,0\\r\\nLP002440,Male,Yes,2,Graduate,No,2995,1120,184,360,1,Rural,0\\r\\nLP002441,Male,No,,Graduate,No,3579,3308,138,360,,Semiurban,0\\r\\nLP002442,Female,Yes,1,Not Graduate,No,3835,1400,112,480,0,Urban,0\\r\\nLP002445,Female,No,1,Not Graduate,No,3854,3575,117,360,1,Rural,0\\r\\nLP002450,Male,Yes,2,Graduate,No,5833,750,49,360,0,Rural,0\\r\\nLP002471,Male,No,0,Graduate,No,3508,0,99,360,1,Rural,0\\r\\nLP002476,Female,Yes,3+,Not Graduate,No,1635,2444,99,360,1,Urban,0\\r\\nLP002482,Female,No,0,Graduate,Yes,3333,3916,212,360,1,Rural,0\\r\\nLP002485,Male,No,1,Graduate,No,24797,0,240,360,1,Semiurban,0\\r\\nLP002495,Male,Yes,2,Graduate,No,5667,440,130,360,0,Semiurban,0\\r\\nLP002496,Female,No,0,Graduate,No,3500,0,94,360,0,Semiurban,0\\r\\nLP002523,Male,Yes,3+,Graduate,No,2773,1497,108,360,1,Semiurban,0\\r\\nLP002542,Male,Yes,0,Graduate,,6500,0,144,360,1,Urban,0\\r\\nLP002550,Female,No,0,Graduate,No,5769,0,110,180,1,Semiurban,0\\r\\nLP002551,Male,Yes,3+,Not Graduate,,3634,910,176,360,0,Semiurban,0\\r\\nLP002553,,No,0,Graduate,No,29167,0,185,360,1,Semiurban,0\\r\\nLP002554,Male,No,0,Graduate,No,2166,2057,122,360,1,Semiurban,0\\r\\nLP002561,Male,Yes,0,Graduate,No,5000,0,126,360,1,Rural,0\\r\\nLP002566,Female,No,0,Graduate,No,5530,0,135,360,,Urban,0\\r\\nLP002568,Male,No,0,Not Graduate,No,9000,0,122,360,1,Rural,0\\r\\nLP002570,Female,Yes,2,Graduate,No,10000,11666,460,360,1,Urban,0\\r\\nLP002572,Male,Yes,1,Graduate,,8750,0,297,360,1,Urban,0\\r\\nLP002581,Male,Yes,0,Not Graduate,No,2157,2730,140,360,,Rural,0\\r\\nLP002584,Male,No,0,Graduate,,1972,4347,106,360,1,Rural,0\\r\\nLP002592,Male,No,0,Graduate,No,4983,0,141,360,1,Urban,0\\r\\nLP002593,Male,Yes,1,Graduate,No,8333,4000,,360,1,Urban,0\\r\\nLP002599,Male,Yes,0,Graduate,No,3667,2000,170,360,1,Semiurban,0\\r\\nLP002604,Male,Yes,2,Graduate,No,3166,2833,145,360,1,Urban,0\\r\\nLP002605,Male,No,0,Not Graduate,No,3271,0,90,360,1,Rural,0\\r\\nLP002609,Female,Yes,0,Graduate,No,2241,2000,88,360,0,Urban,0\\r\\nLP002610,Male,Yes,1,Not Graduate,,1792,2565,128,360,1,Urban,0\\r\\nLP002612,Female,Yes,0,Graduate,No,2666,0,84,480,1,Semiurban,0\\r\\nLP002614,,No,0,Graduate,No,6478,0,108,360,1,Semiurban,0\\r\\nLP002630,Male,No,0,Not Graduate,,3808,0,83,360,1,Rural,0\\r\\nLP002635,Female,Yes,2,Not Graduate,No,3729,0,117,360,1,Semiurban,0\\r\\nLP002639,Male,Yes,2,Graduate,No,4120,0,128,360,1,Rural,0\\r\\nLP002644,Male,Yes,1,Graduate,Yes,7500,0,75,360,1,Urban,0\\r\\nLP002651,Male,Yes,1,Graduate,,6300,0,125,360,0,Urban,0\\r\\nLP002654,Female,No,,Graduate,Yes,14987,0,177,360,1,Rural,0\\r\\nLP002657,,Yes,1,Not Graduate,Yes,570,2125,68,360,1,Rural,0\\r\\nLP002711,Male,Yes,0,Graduate,No,2600,700,96,360,1,Semiurban,0\\r\\nLP002712,Male,No,2,Not Graduate,No,2733,1083,180,360,,Semiurban,0\\r\\nLP002721,Male,Yes,2,Graduate,Yes,7500,0,183,360,1,Rural,0\\r\\nLP002735,Male,Yes,2,Not Graduate,No,3859,0,121,360,1,Rural,0\\r\\nLP002744,Male,Yes,1,Graduate,No,6825,0,162,360,1,Rural,0\\r\\nLP002745,Male,Yes,0,Graduate,No,3708,4700,132,360,1,Semiurban,0\\r\\nLP002746,Male,No,0,Graduate,No,5314,0,147,360,1,Urban,0\\r\\nLP002747,Female,No,3+,Graduate,No,2366,5272,153,360,0,Rural,0\\r\\nLP002754,Male,No,,Graduate,No,2066,2108,104,84,1,Urban,0\\r\\nLP002759,Male,Yes,2,Graduate,No,5000,0,149,360,1,Rural,0\\r\\nLP002760,Female,No,0,Graduate,No,3767,0,134,300,1,Urban,0\\r\\nLP002766,Female,Yes,0,Graduate,No,7859,879,165,180,1,Semiurban,0\\r\\nLP002769,Female,Yes,0,Graduate,No,4283,0,120,360,1,Rural,0\\r\\nLP002774,Male,Yes,0,Not Graduate,No,1700,2900,67,360,0,Urban,0\\r\\nLP002775,,No,0,Not Graduate,No,4768,0,125,360,1,Rural,0\\r\\nLP002781,Male,No,0,Graduate,No,3083,2738,120,360,1,Urban,0\\r\\nLP002782,Male,Yes,1,Graduate,No,2667,1542,148,360,1,Rural,0\\r\\nLP002786,Female,Yes,0,Not Graduate,No,1647,1762,181,360,1,Urban,0\\r\\nLP002790,Male,Yes,3+,Graduate,No,3400,0,80,120,1,Urban,0\\r\\nLP002791,Male,No,1,Graduate,,16000,5000,40,360,1,Semiurban,0\\r\\nLP002793,Male,Yes,0,Graduate,No,5333,0,90,360,1,Rural,0\\r\\nLP002802,Male,No,0,Graduate,No,2875,2416,95,6,0,Semiurban,0\\r\\nLP002803,Male,Yes,1,Not Graduate,,2600,618,122,360,1,Semiurban,0\\r\\nLP002805,Male,Yes,2,Graduate,No,5041,700,150,360,1,Urban,0\\r\\nLP002806,Male,Yes,3+,Graduate,Yes,6958,1411,150,360,1,Rural,0\\r\\nLP002816,Male,Yes,1,Graduate,No,3500,1658,104,360,,Semiurban,0\\r\\nLP002823,Male,Yes,0,Graduate,No,5509,0,143,360,1,Rural,0\\r\\nLP002825,Male,Yes,3+,Graduate,No,9699,0,300,360,1,Urban,0\\r\\nLP002826,Female,Yes,1,Not Graduate,No,3621,2717,171,360,1,Urban,0\\r\\nLP002843,Female,Yes,0,Graduate,No,4709,0,113,360,1,Semiurban,0\\r\\nLP002849,Male,Yes,0,Graduate,No,1516,1951,35,360,1,Semiurban,0\\r\\nLP002850,Male,No,2,Graduate,No,2400,0,46,360,1,Urban,0\\r\\nLP002853,Female,No,0,Not Graduate,No,3015,2000,145,360,,Urban,0\\r\\nLP002856,Male,Yes,0,Graduate,No,2292,1558,119,360,1,Urban,0\\r\\nLP002857,Male,Yes,1,Graduate,Yes,2360,3355,87,240,1,Rural,0\\r\\nLP002858,Female,No,0,Graduate,No,4333,2333,162,360,0,Rural,0\\r\\nLP002860,Male,Yes,0,Graduate,Yes,2623,4831,122,180,1,Semiurban,0\\r\\nLP002867,Male,No,0,Graduate,Yes,3972,4275,187,360,1,Rural,0\\r\\nLP002869,Male,Yes,3+,Not Graduate,No,3522,0,81,180,1,Rural,0\\r\\nLP002870,Male,Yes,1,Graduate,No,4700,0,80,360,1,Urban,0\\r\\nLP002876,Male,No,0,Graduate,No,6858,0,176,360,1,Rural,0\\r\\nLP002878,Male,Yes,3+,Graduate,No,8334,0,260,360,1,Urban,0\\r\\nLP002879,Male,Yes,0,Graduate,No,3391,1966,133,360,0,Rural,0\\r\\nLP002885,Male,No,0,Not Graduate,No,2868,0,70,360,1,Urban,0\\r\\nLP002890,Male,Yes,2,Not Graduate,No,3418,1380,135,360,1,Urban,0\\r\\nLP002891,Male,Yes,0,Graduate,Yes,2500,296,137,300,1,Rural,0\\r\\nLP002899,Male,Yes,2,Graduate,No,8667,0,254,360,1,Rural,0\\r\\nLP002901,Male,No,0,Graduate,No,2283,15000,106,360,,Rural,0\\r\\nLP002907,Male,Yes,0,Graduate,No,5817,910,109,360,1,Urban,0\\r\\nLP002920,Male,Yes,0,Graduate,No,5119,3769,120,360,1,Rural,0\\r\\nLP002921,Male,Yes,3+,Not Graduate,No,5316,187,158,180,0,Semiurban,0\\r\\nLP002932,Male,Yes,3+,Graduate,No,7603,1213,197,360,1,Urban,0\\r\\nLP002935,Male,Yes,1,Graduate,No,3791,1936,85,360,1,Urban,0\\r\\nLP002952,Male,No,0,Graduate,No,2500,0,60,360,1,Urban,0\\r\\nLP002954,Male,Yes,2,Not Graduate,No,3132,0,76,360,,Rural,0\\r\\nLP002962,Male,No,0,Graduate,No,4000,2667,152,360,1,Semiurban,0\\r\\nLP002965,Female,Yes,0,Graduate,No,8550,4255,96,360,,Urban,0\\r\\nLP002969,Male,Yes,1,Graduate,No,2269,2167,99,360,1,Semiurban,0\\r\\nLP002971,Male,Yes,3+,Not Graduate,Yes,4009,1777,113,360,1,Urban,0\\r\\nLP002975,Male,Yes,0,Graduate,No,4158,709,115,360,1,Urban,0\\r\\nLP002980,Male,No,0,Graduate,No,3250,1993,126,360,,Semiurban,0\\r\\nLP002986,Male,Yes,0,Graduate,No,5000,2393,158,360,1,Rural,0\\r\\nLP002989,Male,No,0,Graduate,Yes,9200,0,98,180,1,Rural,0\\r\\n'}"
            ]
          },
          "metadata": {},
          "execution_count": 2
        }
      ],
      "source": [
        "from google.colab import files\n",
        "files.upload()"
      ]
    },
    {
      "cell_type": "code",
      "source": [
        "import pandas as pd\n",
        "import numpy as np\n",
        "import matplotlib.pyplot as plt\n",
        "import seaborn as sns\n",
        "from sklearn.model_selection import train_test_split\n",
        "from sklearn.tree import DecisionTreeClassifier\n",
        "from sklearn.ensemble import RandomForestClassifier\n",
        "from sklearn.metrics import classification_report,confusion_matrix\n",
        "from sklearn.model_selection import RandomizedSearchCV\n",
        "\n",
        "\n"
      ],
      "metadata": {
        "id": "S3ek_50yfacF"
      },
      "execution_count": 17,
      "outputs": []
    },
    {
      "cell_type": "code",
      "source": [
        "df = pd.read_csv('Data_Loan.csv')\n"
      ],
      "metadata": {
        "id": "1F5K7kFNfnSK"
      },
      "execution_count": 4,
      "outputs": []
    },
    {
      "cell_type": "code",
      "source": [
        "df"
      ],
      "metadata": {
        "colab": {
          "base_uri": "https://localhost:8080/",
          "height": 540
        },
        "id": "CiTH5MaNgC8q",
        "outputId": "14588f09-4fad-45ad-fcc7-83c73a0c5ed5"
      },
      "execution_count": null,
      "outputs": [
        {
          "output_type": "execute_result",
          "data": {
            "text/plain": [
              "      Loan_ID Gender Married Dependents     Education Self_Employed  \\\n",
              "0    LP001015   Male     Yes          0      Graduate            No   \n",
              "1    LP001022   Male     Yes          1      Graduate            No   \n",
              "2    LP001031   Male     Yes          2      Graduate            No   \n",
              "3    LP001035   Male     Yes          2      Graduate            No   \n",
              "4    LP001051   Male      No          0  Not Graduate            No   \n",
              "..        ...    ...     ...        ...           ...           ...   \n",
              "362  LP002971   Male     Yes         3+  Not Graduate           Yes   \n",
              "363  LP002975   Male     Yes          0      Graduate            No   \n",
              "364  LP002980   Male      No          0      Graduate            No   \n",
              "365  LP002986   Male     Yes          0      Graduate            No   \n",
              "366  LP002989   Male      No          0      Graduate           Yes   \n",
              "\n",
              "     ApplicantIncome  CoapplicantIncome  LoanAmount  Loan_Amount_Term  \\\n",
              "0               5720                  0       110.0             360.0   \n",
              "1               3076               1500       126.0             360.0   \n",
              "2               5000               1800       208.0             360.0   \n",
              "3               2340               2546       100.0             360.0   \n",
              "4               3276                  0        78.0             360.0   \n",
              "..               ...                ...         ...               ...   \n",
              "362             4009               1777       113.0             360.0   \n",
              "363             4158                709       115.0             360.0   \n",
              "364             3250               1993       126.0             360.0   \n",
              "365             5000               2393       158.0             360.0   \n",
              "366             9200                  0        98.0             180.0   \n",
              "\n",
              "     Credit_History Property_Area  Loan Approved  \n",
              "0               1.0         Urban              0  \n",
              "1               1.0         Urban              0  \n",
              "2               1.0         Urban              0  \n",
              "3               NaN         Urban              0  \n",
              "4               1.0         Urban              0  \n",
              "..              ...           ...            ...  \n",
              "362             1.0         Urban              0  \n",
              "363             1.0         Urban              0  \n",
              "364             NaN     Semiurban              0  \n",
              "365             1.0         Rural              0  \n",
              "366             1.0         Rural              0  \n",
              "\n",
              "[367 rows x 13 columns]"
            ],
            "text/html": [
              "\n",
              "  <div id=\"df-650c04f3-cc73-4e1b-84d7-b415a49fd6cf\">\n",
              "    <div class=\"colab-df-container\">\n",
              "      <div>\n",
              "<style scoped>\n",
              "    .dataframe tbody tr th:only-of-type {\n",
              "        vertical-align: middle;\n",
              "    }\n",
              "\n",
              "    .dataframe tbody tr th {\n",
              "        vertical-align: top;\n",
              "    }\n",
              "\n",
              "    .dataframe thead th {\n",
              "        text-align: right;\n",
              "    }\n",
              "</style>\n",
              "<table border=\"1\" class=\"dataframe\">\n",
              "  <thead>\n",
              "    <tr style=\"text-align: right;\">\n",
              "      <th></th>\n",
              "      <th>Loan_ID</th>\n",
              "      <th>Gender</th>\n",
              "      <th>Married</th>\n",
              "      <th>Dependents</th>\n",
              "      <th>Education</th>\n",
              "      <th>Self_Employed</th>\n",
              "      <th>ApplicantIncome</th>\n",
              "      <th>CoapplicantIncome</th>\n",
              "      <th>LoanAmount</th>\n",
              "      <th>Loan_Amount_Term</th>\n",
              "      <th>Credit_History</th>\n",
              "      <th>Property_Area</th>\n",
              "      <th>Loan Approved</th>\n",
              "    </tr>\n",
              "  </thead>\n",
              "  <tbody>\n",
              "    <tr>\n",
              "      <th>0</th>\n",
              "      <td>LP001015</td>\n",
              "      <td>Male</td>\n",
              "      <td>Yes</td>\n",
              "      <td>0</td>\n",
              "      <td>Graduate</td>\n",
              "      <td>No</td>\n",
              "      <td>5720</td>\n",
              "      <td>0</td>\n",
              "      <td>110.0</td>\n",
              "      <td>360.0</td>\n",
              "      <td>1.0</td>\n",
              "      <td>Urban</td>\n",
              "      <td>0</td>\n",
              "    </tr>\n",
              "    <tr>\n",
              "      <th>1</th>\n",
              "      <td>LP001022</td>\n",
              "      <td>Male</td>\n",
              "      <td>Yes</td>\n",
              "      <td>1</td>\n",
              "      <td>Graduate</td>\n",
              "      <td>No</td>\n",
              "      <td>3076</td>\n",
              "      <td>1500</td>\n",
              "      <td>126.0</td>\n",
              "      <td>360.0</td>\n",
              "      <td>1.0</td>\n",
              "      <td>Urban</td>\n",
              "      <td>0</td>\n",
              "    </tr>\n",
              "    <tr>\n",
              "      <th>2</th>\n",
              "      <td>LP001031</td>\n",
              "      <td>Male</td>\n",
              "      <td>Yes</td>\n",
              "      <td>2</td>\n",
              "      <td>Graduate</td>\n",
              "      <td>No</td>\n",
              "      <td>5000</td>\n",
              "      <td>1800</td>\n",
              "      <td>208.0</td>\n",
              "      <td>360.0</td>\n",
              "      <td>1.0</td>\n",
              "      <td>Urban</td>\n",
              "      <td>0</td>\n",
              "    </tr>\n",
              "    <tr>\n",
              "      <th>3</th>\n",
              "      <td>LP001035</td>\n",
              "      <td>Male</td>\n",
              "      <td>Yes</td>\n",
              "      <td>2</td>\n",
              "      <td>Graduate</td>\n",
              "      <td>No</td>\n",
              "      <td>2340</td>\n",
              "      <td>2546</td>\n",
              "      <td>100.0</td>\n",
              "      <td>360.0</td>\n",
              "      <td>NaN</td>\n",
              "      <td>Urban</td>\n",
              "      <td>0</td>\n",
              "    </tr>\n",
              "    <tr>\n",
              "      <th>4</th>\n",
              "      <td>LP001051</td>\n",
              "      <td>Male</td>\n",
              "      <td>No</td>\n",
              "      <td>0</td>\n",
              "      <td>Not Graduate</td>\n",
              "      <td>No</td>\n",
              "      <td>3276</td>\n",
              "      <td>0</td>\n",
              "      <td>78.0</td>\n",
              "      <td>360.0</td>\n",
              "      <td>1.0</td>\n",
              "      <td>Urban</td>\n",
              "      <td>0</td>\n",
              "    </tr>\n",
              "    <tr>\n",
              "      <th>...</th>\n",
              "      <td>...</td>\n",
              "      <td>...</td>\n",
              "      <td>...</td>\n",
              "      <td>...</td>\n",
              "      <td>...</td>\n",
              "      <td>...</td>\n",
              "      <td>...</td>\n",
              "      <td>...</td>\n",
              "      <td>...</td>\n",
              "      <td>...</td>\n",
              "      <td>...</td>\n",
              "      <td>...</td>\n",
              "      <td>...</td>\n",
              "    </tr>\n",
              "    <tr>\n",
              "      <th>362</th>\n",
              "      <td>LP002971</td>\n",
              "      <td>Male</td>\n",
              "      <td>Yes</td>\n",
              "      <td>3+</td>\n",
              "      <td>Not Graduate</td>\n",
              "      <td>Yes</td>\n",
              "      <td>4009</td>\n",
              "      <td>1777</td>\n",
              "      <td>113.0</td>\n",
              "      <td>360.0</td>\n",
              "      <td>1.0</td>\n",
              "      <td>Urban</td>\n",
              "      <td>0</td>\n",
              "    </tr>\n",
              "    <tr>\n",
              "      <th>363</th>\n",
              "      <td>LP002975</td>\n",
              "      <td>Male</td>\n",
              "      <td>Yes</td>\n",
              "      <td>0</td>\n",
              "      <td>Graduate</td>\n",
              "      <td>No</td>\n",
              "      <td>4158</td>\n",
              "      <td>709</td>\n",
              "      <td>115.0</td>\n",
              "      <td>360.0</td>\n",
              "      <td>1.0</td>\n",
              "      <td>Urban</td>\n",
              "      <td>0</td>\n",
              "    </tr>\n",
              "    <tr>\n",
              "      <th>364</th>\n",
              "      <td>LP002980</td>\n",
              "      <td>Male</td>\n",
              "      <td>No</td>\n",
              "      <td>0</td>\n",
              "      <td>Graduate</td>\n",
              "      <td>No</td>\n",
              "      <td>3250</td>\n",
              "      <td>1993</td>\n",
              "      <td>126.0</td>\n",
              "      <td>360.0</td>\n",
              "      <td>NaN</td>\n",
              "      <td>Semiurban</td>\n",
              "      <td>0</td>\n",
              "    </tr>\n",
              "    <tr>\n",
              "      <th>365</th>\n",
              "      <td>LP002986</td>\n",
              "      <td>Male</td>\n",
              "      <td>Yes</td>\n",
              "      <td>0</td>\n",
              "      <td>Graduate</td>\n",
              "      <td>No</td>\n",
              "      <td>5000</td>\n",
              "      <td>2393</td>\n",
              "      <td>158.0</td>\n",
              "      <td>360.0</td>\n",
              "      <td>1.0</td>\n",
              "      <td>Rural</td>\n",
              "      <td>0</td>\n",
              "    </tr>\n",
              "    <tr>\n",
              "      <th>366</th>\n",
              "      <td>LP002989</td>\n",
              "      <td>Male</td>\n",
              "      <td>No</td>\n",
              "      <td>0</td>\n",
              "      <td>Graduate</td>\n",
              "      <td>Yes</td>\n",
              "      <td>9200</td>\n",
              "      <td>0</td>\n",
              "      <td>98.0</td>\n",
              "      <td>180.0</td>\n",
              "      <td>1.0</td>\n",
              "      <td>Rural</td>\n",
              "      <td>0</td>\n",
              "    </tr>\n",
              "  </tbody>\n",
              "</table>\n",
              "<p>367 rows × 13 columns</p>\n",
              "</div>\n",
              "      <button class=\"colab-df-convert\" onclick=\"convertToInteractive('df-650c04f3-cc73-4e1b-84d7-b415a49fd6cf')\"\n",
              "              title=\"Convert this dataframe to an interactive table.\"\n",
              "              style=\"display:none;\">\n",
              "        \n",
              "  <svg xmlns=\"http://www.w3.org/2000/svg\" height=\"24px\"viewBox=\"0 0 24 24\"\n",
              "       width=\"24px\">\n",
              "    <path d=\"M0 0h24v24H0V0z\" fill=\"none\"/>\n",
              "    <path d=\"M18.56 5.44l.94 2.06.94-2.06 2.06-.94-2.06-.94-.94-2.06-.94 2.06-2.06.94zm-11 1L8.5 8.5l.94-2.06 2.06-.94-2.06-.94L8.5 2.5l-.94 2.06-2.06.94zm10 10l.94 2.06.94-2.06 2.06-.94-2.06-.94-.94-2.06-.94 2.06-2.06.94z\"/><path d=\"M17.41 7.96l-1.37-1.37c-.4-.4-.92-.59-1.43-.59-.52 0-1.04.2-1.43.59L10.3 9.45l-7.72 7.72c-.78.78-.78 2.05 0 2.83L4 21.41c.39.39.9.59 1.41.59.51 0 1.02-.2 1.41-.59l7.78-7.78 2.81-2.81c.8-.78.8-2.07 0-2.86zM5.41 20L4 18.59l7.72-7.72 1.47 1.35L5.41 20z\"/>\n",
              "  </svg>\n",
              "      </button>\n",
              "      \n",
              "  <style>\n",
              "    .colab-df-container {\n",
              "      display:flex;\n",
              "      flex-wrap:wrap;\n",
              "      gap: 12px;\n",
              "    }\n",
              "\n",
              "    .colab-df-convert {\n",
              "      background-color: #E8F0FE;\n",
              "      border: none;\n",
              "      border-radius: 50%;\n",
              "      cursor: pointer;\n",
              "      display: none;\n",
              "      fill: #1967D2;\n",
              "      height: 32px;\n",
              "      padding: 0 0 0 0;\n",
              "      width: 32px;\n",
              "    }\n",
              "\n",
              "    .colab-df-convert:hover {\n",
              "      background-color: #E2EBFA;\n",
              "      box-shadow: 0px 1px 2px rgba(60, 64, 67, 0.3), 0px 1px 3px 1px rgba(60, 64, 67, 0.15);\n",
              "      fill: #174EA6;\n",
              "    }\n",
              "\n",
              "    [theme=dark] .colab-df-convert {\n",
              "      background-color: #3B4455;\n",
              "      fill: #D2E3FC;\n",
              "    }\n",
              "\n",
              "    [theme=dark] .colab-df-convert:hover {\n",
              "      background-color: #434B5C;\n",
              "      box-shadow: 0px 1px 3px 1px rgba(0, 0, 0, 0.15);\n",
              "      filter: drop-shadow(0px 1px 2px rgba(0, 0, 0, 0.3));\n",
              "      fill: #FFFFFF;\n",
              "    }\n",
              "  </style>\n",
              "\n",
              "      <script>\n",
              "        const buttonEl =\n",
              "          document.querySelector('#df-650c04f3-cc73-4e1b-84d7-b415a49fd6cf button.colab-df-convert');\n",
              "        buttonEl.style.display =\n",
              "          google.colab.kernel.accessAllowed ? 'block' : 'none';\n",
              "\n",
              "        async function convertToInteractive(key) {\n",
              "          const element = document.querySelector('#df-650c04f3-cc73-4e1b-84d7-b415a49fd6cf');\n",
              "          const dataTable =\n",
              "            await google.colab.kernel.invokeFunction('convertToInteractive',\n",
              "                                                     [key], {});\n",
              "          if (!dataTable) return;\n",
              "\n",
              "          const docLinkHtml = 'Like what you see? Visit the ' +\n",
              "            '<a target=\"_blank\" href=https://colab.research.google.com/notebooks/data_table.ipynb>data table notebook</a>'\n",
              "            + ' to learn more about interactive tables.';\n",
              "          element.innerHTML = '';\n",
              "          dataTable['output_type'] = 'display_data';\n",
              "          await google.colab.output.renderOutput(dataTable, element);\n",
              "          const docLink = document.createElement('div');\n",
              "          docLink.innerHTML = docLinkHtml;\n",
              "          element.appendChild(docLink);\n",
              "        }\n",
              "      </script>\n",
              "    </div>\n",
              "  </div>\n",
              "  "
            ]
          },
          "metadata": {},
          "execution_count": 24
        }
      ]
    },
    {
      "cell_type": "code",
      "source": [
        "!head 'Data_Loan.csv'"
      ],
      "metadata": {
        "colab": {
          "base_uri": "https://localhost:8080/"
        },
        "id": "NL8bAStwxPsJ",
        "outputId": "a0493c3d-e9c2-4e8a-c2c2-d1fbb857beaf"
      },
      "execution_count": 5,
      "outputs": [
        {
          "output_type": "stream",
          "name": "stdout",
          "text": [
            "Loan_ID,Gender,Married,Dependents,Education,Self_Employed,ApplicantIncome,CoapplicantIncome,LoanAmount,Loan_Amount_Term,Credit_History,Property_Area,Loan Approved\r\n",
            "LP001015,Male,Yes,0,Graduate,No,5720,0,110,360,1,Urban,0\r\n",
            "LP001022,Male,Yes,1,Graduate,No,3076,1500,126,360,1,Urban,0\r\n",
            "LP001031,Male,Yes,2,Graduate,No,5000,1800,208,360,1,Urban,0\r\n",
            "LP001035,Male,Yes,2,Graduate,No,2340,2546,100,360,,Urban,0\r\n",
            "LP001051,Male,No,0,Not Graduate,No,3276,0,78,360,1,Urban,0\r\n",
            "LP001054,Male,Yes,0,Not Graduate,Yes,2165,3422,152,360,1,Urban,0\r\n",
            "LP001055,Female,No,1,Not Graduate,No,2226,0,59,360,1,Semiurban,0\r\n",
            "LP001056,Male,Yes,2,Not Graduate,No,3881,0,147,360,0,Rural,0\r\n",
            "LP001059,Male,Yes,2,Graduate,,13633,0,280,240,1,Urban,0\r\n"
          ]
        }
      ]
    },
    {
      "cell_type": "code",
      "source": [
        ""
      ],
      "metadata": {
        "id": "Sk4dmmrax1Xm"
      },
      "execution_count": null,
      "outputs": []
    },
    {
      "cell_type": "code",
      "source": [
        "df.head()"
      ],
      "metadata": {
        "colab": {
          "base_uri": "https://localhost:8080/",
          "height": 305
        },
        "id": "FjuwhnT9gTI8",
        "outputId": "d4fe8f5d-04c6-4464-c98d-ef5bf509017e"
      },
      "execution_count": 6,
      "outputs": [
        {
          "output_type": "execute_result",
          "data": {
            "text/plain": [
              "    Loan_ID Gender Married Dependents     Education Self_Employed  \\\n",
              "0  LP001015   Male     Yes          0      Graduate            No   \n",
              "1  LP001022   Male     Yes          1      Graduate            No   \n",
              "2  LP001031   Male     Yes          2      Graduate            No   \n",
              "3  LP001035   Male     Yes          2      Graduate            No   \n",
              "4  LP001051   Male      No          0  Not Graduate            No   \n",
              "\n",
              "   ApplicantIncome  CoapplicantIncome  LoanAmount  Loan_Amount_Term  \\\n",
              "0             5720                  0       110.0             360.0   \n",
              "1             3076               1500       126.0             360.0   \n",
              "2             5000               1800       208.0             360.0   \n",
              "3             2340               2546       100.0             360.0   \n",
              "4             3276                  0        78.0             360.0   \n",
              "\n",
              "   Credit_History Property_Area  Loan Approved  \n",
              "0             1.0         Urban              0  \n",
              "1             1.0         Urban              0  \n",
              "2             1.0         Urban              0  \n",
              "3             NaN         Urban              0  \n",
              "4             1.0         Urban              0  "
            ],
            "text/html": [
              "\n",
              "  <div id=\"df-312ae95d-e278-4e73-a18a-58243bfe47d1\">\n",
              "    <div class=\"colab-df-container\">\n",
              "      <div>\n",
              "<style scoped>\n",
              "    .dataframe tbody tr th:only-of-type {\n",
              "        vertical-align: middle;\n",
              "    }\n",
              "\n",
              "    .dataframe tbody tr th {\n",
              "        vertical-align: top;\n",
              "    }\n",
              "\n",
              "    .dataframe thead th {\n",
              "        text-align: right;\n",
              "    }\n",
              "</style>\n",
              "<table border=\"1\" class=\"dataframe\">\n",
              "  <thead>\n",
              "    <tr style=\"text-align: right;\">\n",
              "      <th></th>\n",
              "      <th>Loan_ID</th>\n",
              "      <th>Gender</th>\n",
              "      <th>Married</th>\n",
              "      <th>Dependents</th>\n",
              "      <th>Education</th>\n",
              "      <th>Self_Employed</th>\n",
              "      <th>ApplicantIncome</th>\n",
              "      <th>CoapplicantIncome</th>\n",
              "      <th>LoanAmount</th>\n",
              "      <th>Loan_Amount_Term</th>\n",
              "      <th>Credit_History</th>\n",
              "      <th>Property_Area</th>\n",
              "      <th>Loan Approved</th>\n",
              "    </tr>\n",
              "  </thead>\n",
              "  <tbody>\n",
              "    <tr>\n",
              "      <th>0</th>\n",
              "      <td>LP001015</td>\n",
              "      <td>Male</td>\n",
              "      <td>Yes</td>\n",
              "      <td>0</td>\n",
              "      <td>Graduate</td>\n",
              "      <td>No</td>\n",
              "      <td>5720</td>\n",
              "      <td>0</td>\n",
              "      <td>110.0</td>\n",
              "      <td>360.0</td>\n",
              "      <td>1.0</td>\n",
              "      <td>Urban</td>\n",
              "      <td>0</td>\n",
              "    </tr>\n",
              "    <tr>\n",
              "      <th>1</th>\n",
              "      <td>LP001022</td>\n",
              "      <td>Male</td>\n",
              "      <td>Yes</td>\n",
              "      <td>1</td>\n",
              "      <td>Graduate</td>\n",
              "      <td>No</td>\n",
              "      <td>3076</td>\n",
              "      <td>1500</td>\n",
              "      <td>126.0</td>\n",
              "      <td>360.0</td>\n",
              "      <td>1.0</td>\n",
              "      <td>Urban</td>\n",
              "      <td>0</td>\n",
              "    </tr>\n",
              "    <tr>\n",
              "      <th>2</th>\n",
              "      <td>LP001031</td>\n",
              "      <td>Male</td>\n",
              "      <td>Yes</td>\n",
              "      <td>2</td>\n",
              "      <td>Graduate</td>\n",
              "      <td>No</td>\n",
              "      <td>5000</td>\n",
              "      <td>1800</td>\n",
              "      <td>208.0</td>\n",
              "      <td>360.0</td>\n",
              "      <td>1.0</td>\n",
              "      <td>Urban</td>\n",
              "      <td>0</td>\n",
              "    </tr>\n",
              "    <tr>\n",
              "      <th>3</th>\n",
              "      <td>LP001035</td>\n",
              "      <td>Male</td>\n",
              "      <td>Yes</td>\n",
              "      <td>2</td>\n",
              "      <td>Graduate</td>\n",
              "      <td>No</td>\n",
              "      <td>2340</td>\n",
              "      <td>2546</td>\n",
              "      <td>100.0</td>\n",
              "      <td>360.0</td>\n",
              "      <td>NaN</td>\n",
              "      <td>Urban</td>\n",
              "      <td>0</td>\n",
              "    </tr>\n",
              "    <tr>\n",
              "      <th>4</th>\n",
              "      <td>LP001051</td>\n",
              "      <td>Male</td>\n",
              "      <td>No</td>\n",
              "      <td>0</td>\n",
              "      <td>Not Graduate</td>\n",
              "      <td>No</td>\n",
              "      <td>3276</td>\n",
              "      <td>0</td>\n",
              "      <td>78.0</td>\n",
              "      <td>360.0</td>\n",
              "      <td>1.0</td>\n",
              "      <td>Urban</td>\n",
              "      <td>0</td>\n",
              "    </tr>\n",
              "  </tbody>\n",
              "</table>\n",
              "</div>\n",
              "      <button class=\"colab-df-convert\" onclick=\"convertToInteractive('df-312ae95d-e278-4e73-a18a-58243bfe47d1')\"\n",
              "              title=\"Convert this dataframe to an interactive table.\"\n",
              "              style=\"display:none;\">\n",
              "        \n",
              "  <svg xmlns=\"http://www.w3.org/2000/svg\" height=\"24px\"viewBox=\"0 0 24 24\"\n",
              "       width=\"24px\">\n",
              "    <path d=\"M0 0h24v24H0V0z\" fill=\"none\"/>\n",
              "    <path d=\"M18.56 5.44l.94 2.06.94-2.06 2.06-.94-2.06-.94-.94-2.06-.94 2.06-2.06.94zm-11 1L8.5 8.5l.94-2.06 2.06-.94-2.06-.94L8.5 2.5l-.94 2.06-2.06.94zm10 10l.94 2.06.94-2.06 2.06-.94-2.06-.94-.94-2.06-.94 2.06-2.06.94z\"/><path d=\"M17.41 7.96l-1.37-1.37c-.4-.4-.92-.59-1.43-.59-.52 0-1.04.2-1.43.59L10.3 9.45l-7.72 7.72c-.78.78-.78 2.05 0 2.83L4 21.41c.39.39.9.59 1.41.59.51 0 1.02-.2 1.41-.59l7.78-7.78 2.81-2.81c.8-.78.8-2.07 0-2.86zM5.41 20L4 18.59l7.72-7.72 1.47 1.35L5.41 20z\"/>\n",
              "  </svg>\n",
              "      </button>\n",
              "      \n",
              "  <style>\n",
              "    .colab-df-container {\n",
              "      display:flex;\n",
              "      flex-wrap:wrap;\n",
              "      gap: 12px;\n",
              "    }\n",
              "\n",
              "    .colab-df-convert {\n",
              "      background-color: #E8F0FE;\n",
              "      border: none;\n",
              "      border-radius: 50%;\n",
              "      cursor: pointer;\n",
              "      display: none;\n",
              "      fill: #1967D2;\n",
              "      height: 32px;\n",
              "      padding: 0 0 0 0;\n",
              "      width: 32px;\n",
              "    }\n",
              "\n",
              "    .colab-df-convert:hover {\n",
              "      background-color: #E2EBFA;\n",
              "      box-shadow: 0px 1px 2px rgba(60, 64, 67, 0.3), 0px 1px 3px 1px rgba(60, 64, 67, 0.15);\n",
              "      fill: #174EA6;\n",
              "    }\n",
              "\n",
              "    [theme=dark] .colab-df-convert {\n",
              "      background-color: #3B4455;\n",
              "      fill: #D2E3FC;\n",
              "    }\n",
              "\n",
              "    [theme=dark] .colab-df-convert:hover {\n",
              "      background-color: #434B5C;\n",
              "      box-shadow: 0px 1px 3px 1px rgba(0, 0, 0, 0.15);\n",
              "      filter: drop-shadow(0px 1px 2px rgba(0, 0, 0, 0.3));\n",
              "      fill: #FFFFFF;\n",
              "    }\n",
              "  </style>\n",
              "\n",
              "      <script>\n",
              "        const buttonEl =\n",
              "          document.querySelector('#df-312ae95d-e278-4e73-a18a-58243bfe47d1 button.colab-df-convert');\n",
              "        buttonEl.style.display =\n",
              "          google.colab.kernel.accessAllowed ? 'block' : 'none';\n",
              "\n",
              "        async function convertToInteractive(key) {\n",
              "          const element = document.querySelector('#df-312ae95d-e278-4e73-a18a-58243bfe47d1');\n",
              "          const dataTable =\n",
              "            await google.colab.kernel.invokeFunction('convertToInteractive',\n",
              "                                                     [key], {});\n",
              "          if (!dataTable) return;\n",
              "\n",
              "          const docLinkHtml = 'Like what you see? Visit the ' +\n",
              "            '<a target=\"_blank\" href=https://colab.research.google.com/notebooks/data_table.ipynb>data table notebook</a>'\n",
              "            + ' to learn more about interactive tables.';\n",
              "          element.innerHTML = '';\n",
              "          dataTable['output_type'] = 'display_data';\n",
              "          await google.colab.output.renderOutput(dataTable, element);\n",
              "          const docLink = document.createElement('div');\n",
              "          docLink.innerHTML = docLinkHtml;\n",
              "          element.appendChild(docLink);\n",
              "        }\n",
              "      </script>\n",
              "    </div>\n",
              "  </div>\n",
              "  "
            ]
          },
          "metadata": {},
          "execution_count": 6
        }
      ]
    },
    {
      "cell_type": "code",
      "source": [
        "%%time\n",
        "data = pd.read_csv('Data_Loan.csv')\n",
        "submission = pd.read_csv('Data_Loan.csv')"
      ],
      "metadata": {
        "colab": {
          "base_uri": "https://localhost:8080/"
        },
        "id": "E-vjjSinyMJ2",
        "outputId": "fe3b9a0b-943c-45b3-85e3-97f4f486599a"
      },
      "execution_count": 7,
      "outputs": [
        {
          "output_type": "stream",
          "name": "stdout",
          "text": [
            "CPU times: user 10.4 ms, sys: 1.86 ms, total: 12.2 ms\n",
            "Wall time: 12.9 ms\n"
          ]
        }
      ]
    },
    {
      "cell_type": "code",
      "source": [
        "df.info()"
      ],
      "metadata": {
        "colab": {
          "base_uri": "https://localhost:8080/"
        },
        "id": "JFcElMgqi5GM",
        "outputId": "2d5ae456-6dc7-4b90-9daf-1d46f9643681"
      },
      "execution_count": 8,
      "outputs": [
        {
          "output_type": "stream",
          "name": "stdout",
          "text": [
            "<class 'pandas.core.frame.DataFrame'>\n",
            "RangeIndex: 367 entries, 0 to 366\n",
            "Data columns (total 13 columns):\n",
            " #   Column             Non-Null Count  Dtype  \n",
            "---  ------             --------------  -----  \n",
            " 0   Loan_ID            367 non-null    object \n",
            " 1   Gender             356 non-null    object \n",
            " 2   Married            367 non-null    object \n",
            " 3   Dependents         357 non-null    object \n",
            " 4   Education          367 non-null    object \n",
            " 5   Self_Employed      344 non-null    object \n",
            " 6   ApplicantIncome    367 non-null    int64  \n",
            " 7   CoapplicantIncome  367 non-null    int64  \n",
            " 8   LoanAmount         362 non-null    float64\n",
            " 9   Loan_Amount_Term   361 non-null    float64\n",
            " 10  Credit_History     338 non-null    float64\n",
            " 11  Property_Area      367 non-null    object \n",
            " 12  Loan Approved      367 non-null    int64  \n",
            "dtypes: float64(3), int64(3), object(7)\n",
            "memory usage: 37.4+ KB\n"
          ]
        }
      ]
    },
    {
      "cell_type": "code",
      "source": [
        "plt.figure(figsize=(12,4))\n",
        "plt.subplot(121)\n",
        "sns.barplot(data.Loan_Status.value_counts(),y=['Approved (1)','Rejected (0)'])\n",
        "plt.subplot(122)\n",
        "data.Loan_Status.value_counts(normalize=True).plot.pie(autopct=\"%.2f%%\")\n",
        "plt.show()"
      ],
      "metadata": {
        "id": "IvGqQI3mySZl",
        "colab": {
          "base_uri": "https://localhost:8080/",
          "height": 608
        },
        "outputId": "d31941d2-6d92-4b4c-fe57-5ee0834353d9"
      },
      "execution_count": 9,
      "outputs": [
        {
          "output_type": "error",
          "ename": "AttributeError",
          "evalue": "ignored",
          "traceback": [
            "\u001b[0;31m---------------------------------------------------------------------------\u001b[0m",
            "\u001b[0;31mAttributeError\u001b[0m                            Traceback (most recent call last)",
            "\u001b[0;32m<ipython-input-9-9de9c719001b>\u001b[0m in \u001b[0;36m<module>\u001b[0;34m()\u001b[0m\n\u001b[1;32m      1\u001b[0m \u001b[0mplt\u001b[0m\u001b[0;34m.\u001b[0m\u001b[0mfigure\u001b[0m\u001b[0;34m(\u001b[0m\u001b[0mfigsize\u001b[0m\u001b[0;34m=\u001b[0m\u001b[0;34m(\u001b[0m\u001b[0;36m12\u001b[0m\u001b[0;34m,\u001b[0m\u001b[0;36m4\u001b[0m\u001b[0;34m)\u001b[0m\u001b[0;34m)\u001b[0m\u001b[0;34m\u001b[0m\u001b[0;34m\u001b[0m\u001b[0m\n\u001b[1;32m      2\u001b[0m \u001b[0mplt\u001b[0m\u001b[0;34m.\u001b[0m\u001b[0msubplot\u001b[0m\u001b[0;34m(\u001b[0m\u001b[0;36m121\u001b[0m\u001b[0;34m)\u001b[0m\u001b[0;34m\u001b[0m\u001b[0;34m\u001b[0m\u001b[0m\n\u001b[0;32m----> 3\u001b[0;31m \u001b[0msns\u001b[0m\u001b[0;34m.\u001b[0m\u001b[0mbarplot\u001b[0m\u001b[0;34m(\u001b[0m\u001b[0mdata\u001b[0m\u001b[0;34m.\u001b[0m\u001b[0mLoan_Status\u001b[0m\u001b[0;34m.\u001b[0m\u001b[0mvalue_counts\u001b[0m\u001b[0;34m(\u001b[0m\u001b[0;34m)\u001b[0m\u001b[0;34m,\u001b[0m\u001b[0my\u001b[0m\u001b[0;34m=\u001b[0m\u001b[0;34m[\u001b[0m\u001b[0;34m'Approved (1)'\u001b[0m\u001b[0;34m,\u001b[0m\u001b[0;34m'Rejected (0)'\u001b[0m\u001b[0;34m]\u001b[0m\u001b[0;34m)\u001b[0m\u001b[0;34m\u001b[0m\u001b[0;34m\u001b[0m\u001b[0m\n\u001b[0m\u001b[1;32m      4\u001b[0m \u001b[0mplt\u001b[0m\u001b[0;34m.\u001b[0m\u001b[0msubplot\u001b[0m\u001b[0;34m(\u001b[0m\u001b[0;36m122\u001b[0m\u001b[0;34m)\u001b[0m\u001b[0;34m\u001b[0m\u001b[0;34m\u001b[0m\u001b[0m\n\u001b[1;32m      5\u001b[0m \u001b[0mdata\u001b[0m\u001b[0;34m.\u001b[0m\u001b[0mLoan_Status\u001b[0m\u001b[0;34m.\u001b[0m\u001b[0mvalue_counts\u001b[0m\u001b[0;34m(\u001b[0m\u001b[0mnormalize\u001b[0m\u001b[0;34m=\u001b[0m\u001b[0;32mTrue\u001b[0m\u001b[0;34m)\u001b[0m\u001b[0;34m.\u001b[0m\u001b[0mplot\u001b[0m\u001b[0;34m.\u001b[0m\u001b[0mpie\u001b[0m\u001b[0;34m(\u001b[0m\u001b[0mautopct\u001b[0m\u001b[0;34m=\u001b[0m\u001b[0;34m\"%.2f%%\"\u001b[0m\u001b[0;34m)\u001b[0m\u001b[0;34m\u001b[0m\u001b[0;34m\u001b[0m\u001b[0m\n",
            "\u001b[0;32m/usr/local/lib/python3.7/dist-packages/pandas/core/generic.py\u001b[0m in \u001b[0;36m__getattr__\u001b[0;34m(self, name)\u001b[0m\n\u001b[1;32m   5485\u001b[0m         ):\n\u001b[1;32m   5486\u001b[0m             \u001b[0;32mreturn\u001b[0m \u001b[0mself\u001b[0m\u001b[0;34m[\u001b[0m\u001b[0mname\u001b[0m\u001b[0;34m]\u001b[0m\u001b[0;34m\u001b[0m\u001b[0;34m\u001b[0m\u001b[0m\n\u001b[0;32m-> 5487\u001b[0;31m         \u001b[0;32mreturn\u001b[0m \u001b[0mobject\u001b[0m\u001b[0;34m.\u001b[0m\u001b[0m__getattribute__\u001b[0m\u001b[0;34m(\u001b[0m\u001b[0mself\u001b[0m\u001b[0;34m,\u001b[0m \u001b[0mname\u001b[0m\u001b[0;34m)\u001b[0m\u001b[0;34m\u001b[0m\u001b[0;34m\u001b[0m\u001b[0m\n\u001b[0m\u001b[1;32m   5488\u001b[0m \u001b[0;34m\u001b[0m\u001b[0m\n\u001b[1;32m   5489\u001b[0m     \u001b[0;32mdef\u001b[0m \u001b[0m__setattr__\u001b[0m\u001b[0;34m(\u001b[0m\u001b[0mself\u001b[0m\u001b[0;34m,\u001b[0m \u001b[0mname\u001b[0m\u001b[0;34m:\u001b[0m \u001b[0mstr\u001b[0m\u001b[0;34m,\u001b[0m \u001b[0mvalue\u001b[0m\u001b[0;34m)\u001b[0m \u001b[0;34m->\u001b[0m \u001b[0;32mNone\u001b[0m\u001b[0;34m:\u001b[0m\u001b[0;34m\u001b[0m\u001b[0;34m\u001b[0m\u001b[0m\n",
            "\u001b[0;31mAttributeError\u001b[0m: 'DataFrame' object has no attribute 'Loan_Status'"
          ]
        },
        {
          "output_type": "display_data",
          "data": {
            "text/plain": [
              "<Figure size 864x288 with 1 Axes>"
            ],
            "image/png": "[encoded data removed]"
          },
          "metadata": {
            "needs_background": "light"
          }
        }
      ]
    },
    {
      "cell_type": "code",
      "source": [
        "df.describe()"
      ],
      "metadata": {
        "colab": {
          "base_uri": "https://localhost:8080/",
          "height": 300
        },
        "id": "I0S0OiRAh3G_",
        "outputId": "e550ad5c-a927-43ab-8ff5-71b808489260"
      },
      "execution_count": 10,
      "outputs": [
        {
          "output_type": "execute_result",
          "data": {
            "text/plain": [
              "       ApplicantIncome  CoapplicantIncome  LoanAmount  Loan_Amount_Term  \\\n",
              "count       367.000000         367.000000  362.000000        361.000000   \n",
              "mean       4805.599455        1569.577657  136.132597        342.537396   \n",
              "std        4910.685399        2334.232099   61.366652         65.156643   \n",
              "min           0.000000           0.000000   28.000000          6.000000   \n",
              "25%        2864.000000           0.000000  100.250000        360.000000   \n",
              "50%        3786.000000        1025.000000  125.000000        360.000000   \n",
              "75%        5060.000000        2430.500000  158.000000        360.000000   \n",
              "max       72529.000000       24000.000000  550.000000        480.000000   \n",
              "\n",
              "       Credit_History  Loan Approved  \n",
              "count      338.000000     367.000000  \n",
              "mean         0.825444       0.070845  \n",
              "std          0.380150       0.256915  \n",
              "min          0.000000       0.000000  \n",
              "25%          1.000000       0.000000  \n",
              "50%          1.000000       0.000000  \n",
              "75%          1.000000       0.000000  \n",
              "max          1.000000       1.000000  "
            ],
            "text/html": [
              "\n",
              "  <div id=\"df-3c10c13c-8cd9-41dd-bac5-d43536252967\">\n",
              "    <div class=\"colab-df-container\">\n",
              "      <div>\n",
              "<style scoped>\n",
              "    .dataframe tbody tr th:only-of-type {\n",
              "        vertical-align: middle;\n",
              "    }\n",
              "\n",
              "    .dataframe tbody tr th {\n",
              "        vertical-align: top;\n",
              "    }\n",
              "\n",
              "    .dataframe thead th {\n",
              "        text-align: right;\n",
              "    }\n",
              "</style>\n",
              "<table border=\"1\" class=\"dataframe\">\n",
              "  <thead>\n",
              "    <tr style=\"text-align: right;\">\n",
              "      <th></th>\n",
              "      <th>ApplicantIncome</th>\n",
              "      <th>CoapplicantIncome</th>\n",
              "      <th>LoanAmount</th>\n",
              "      <th>Loan_Amount_Term</th>\n",
              "      <th>Credit_History</th>\n",
              "      <th>Loan Approved</th>\n",
              "    </tr>\n",
              "  </thead>\n",
              "  <tbody>\n",
              "    <tr>\n",
              "      <th>count</th>\n",
              "      <td>367.000000</td>\n",
              "      <td>367.000000</td>\n",
              "      <td>362.000000</td>\n",
              "      <td>361.000000</td>\n",
              "      <td>338.000000</td>\n",
              "      <td>367.000000</td>\n",
              "    </tr>\n",
              "    <tr>\n",
              "      <th>mean</th>\n",
              "      <td>4805.599455</td>\n",
              "      <td>1569.577657</td>\n",
              "      <td>136.132597</td>\n",
              "      <td>342.537396</td>\n",
              "      <td>0.825444</td>\n",
              "      <td>0.070845</td>\n",
              "    </tr>\n",
              "    <tr>\n",
              "      <th>std</th>\n",
              "      <td>4910.685399</td>\n",
              "      <td>2334.232099</td>\n",
              "      <td>61.366652</td>\n",
              "      <td>65.156643</td>\n",
              "      <td>0.380150</td>\n",
              "      <td>0.256915</td>\n",
              "    </tr>\n",
              "    <tr>\n",
              "      <th>min</th>\n",
              "      <td>0.000000</td>\n",
              "      <td>0.000000</td>\n",
              "      <td>28.000000</td>\n",
              "      <td>6.000000</td>\n",
              "      <td>0.000000</td>\n",
              "      <td>0.000000</td>\n",
              "    </tr>\n",
              "    <tr>\n",
              "      <th>25%</th>\n",
              "      <td>2864.000000</td>\n",
              "      <td>0.000000</td>\n",
              "      <td>100.250000</td>\n",
              "      <td>360.000000</td>\n",
              "      <td>1.000000</td>\n",
              "      <td>0.000000</td>\n",
              "    </tr>\n",
              "    <tr>\n",
              "      <th>50%</th>\n",
              "      <td>3786.000000</td>\n",
              "      <td>1025.000000</td>\n",
              "      <td>125.000000</td>\n",
              "      <td>360.000000</td>\n",
              "      <td>1.000000</td>\n",
              "      <td>0.000000</td>\n",
              "    </tr>\n",
              "    <tr>\n",
              "      <th>75%</th>\n",
              "      <td>5060.000000</td>\n",
              "      <td>2430.500000</td>\n",
              "      <td>158.000000</td>\n",
              "      <td>360.000000</td>\n",
              "      <td>1.000000</td>\n",
              "      <td>0.000000</td>\n",
              "    </tr>\n",
              "    <tr>\n",
              "      <th>max</th>\n",
              "      <td>72529.000000</td>\n",
              "      <td>24000.000000</td>\n",
              "      <td>550.000000</td>\n",
              "      <td>480.000000</td>\n",
              "      <td>1.000000</td>\n",
              "      <td>1.000000</td>\n",
              "    </tr>\n",
              "  </tbody>\n",
              "</table>\n",
              "</div>\n",
              "      <button class=\"colab-df-convert\" onclick=\"convertToInteractive('df-3c10c13c-8cd9-41dd-bac5-d43536252967')\"\n",
              "              title=\"Convert this dataframe to an interactive table.\"\n",
              "              style=\"display:none;\">\n",
              "        \n",
              "  <svg xmlns=\"http://www.w3.org/2000/svg\" height=\"24px\"viewBox=\"0 0 24 24\"\n",
              "       width=\"24px\">\n",
              "    <path d=\"M0 0h24v24H0V0z\" fill=\"none\"/>\n",
              "    <path d=\"M18.56 5.44l.94 2.06.94-2.06 2.06-.94-2.06-.94-.94-2.06-.94 2.06-2.06.94zm-11 1L8.5 8.5l.94-2.06 2.06-.94-2.06-.94L8.5 2.5l-.94 2.06-2.06.94zm10 10l.94 2.06.94-2.06 2.06-.94-2.06-.94-.94-2.06-.94 2.06-2.06.94z\"/><path d=\"M17.41 7.96l-1.37-1.37c-.4-.4-.92-.59-1.43-.59-.52 0-1.04.2-1.43.59L10.3 9.45l-7.72 7.72c-.78.78-.78 2.05 0 2.83L4 21.41c.39.39.9.59 1.41.59.51 0 1.02-.2 1.41-.59l7.78-7.78 2.81-2.81c.8-.78.8-2.07 0-2.86zM5.41 20L4 18.59l7.72-7.72 1.47 1.35L5.41 20z\"/>\n",
              "  </svg>\n",
              "      </button>\n",
              "      \n",
              "  <style>\n",
              "    .colab-df-container {\n",
              "      display:flex;\n",
              "      flex-wrap:wrap;\n",
              "      gap: 12px;\n",
              "    }\n",
              "\n",
              "    .colab-df-convert {\n",
              "      background-color: #E8F0FE;\n",
              "      border: none;\n",
              "      border-radius: 50%;\n",
              "      cursor: pointer;\n",
              "      display: none;\n",
              "      fill: #1967D2;\n",
              "      height: 32px;\n",
              "      padding: 0 0 0 0;\n",
              "      width: 32px;\n",
              "    }\n",
              "\n",
              "    .colab-df-convert:hover {\n",
              "      background-color: #E2EBFA;\n",
              "      box-shadow: 0px 1px 2px rgba(60, 64, 67, 0.3), 0px 1px 3px 1px rgba(60, 64, 67, 0.15);\n",
              "      fill: #174EA6;\n",
              "    }\n",
              "\n",
              "    [theme=dark] .colab-df-convert {\n",
              "      background-color: #3B4455;\n",
              "      fill: #D2E3FC;\n",
              "    }\n",
              "\n",
              "    [theme=dark] .colab-df-convert:hover {\n",
              "      background-color: #434B5C;\n",
              "      box-shadow: 0px 1px 3px 1px rgba(0, 0, 0, 0.15);\n",
              "      filter: drop-shadow(0px 1px 2px rgba(0, 0, 0, 0.3));\n",
              "      fill: #FFFFFF;\n",
              "    }\n",
              "  </style>\n",
              "\n",
              "      <script>\n",
              "        const buttonEl =\n",
              "          document.querySelector('#df-3c10c13c-8cd9-41dd-bac5-d43536252967 button.colab-df-convert');\n",
              "        buttonEl.style.display =\n",
              "          google.colab.kernel.accessAllowed ? 'block' : 'none';\n",
              "\n",
              "        async function convertToInteractive(key) {\n",
              "          const element = document.querySelector('#df-3c10c13c-8cd9-41dd-bac5-d43536252967');\n",
              "          const dataTable =\n",
              "            await google.colab.kernel.invokeFunction('convertToInteractive',\n",
              "                                                     [key], {});\n",
              "          if (!dataTable) return;\n",
              "\n",
              "          const docLinkHtml = 'Like what you see? Visit the ' +\n",
              "            '<a target=\"_blank\" href=https://colab.research.google.com/notebooks/data_table.ipynb>data table notebook</a>'\n",
              "            + ' to learn more about interactive tables.';\n",
              "          element.innerHTML = '';\n",
              "          dataTable['output_type'] = 'display_data';\n",
              "          await google.colab.output.renderOutput(dataTable, element);\n",
              "          const docLink = document.createElement('div');\n",
              "          docLink.innerHTML = docLinkHtml;\n",
              "          element.appendChild(docLink);\n",
              "        }\n",
              "      </script>\n",
              "    </div>\n",
              "  </div>\n",
              "  "
            ]
          },
          "metadata": {},
          "execution_count": 10
        }
      ]
    },
    {
      "cell_type": "code",
      "source": [
        "df.corr()"
      ],
      "metadata": {
        "colab": {
          "base_uri": "https://localhost:8080/",
          "height": 238
        },
        "id": "NJgULGi3iDwo",
        "outputId": "50bd1c3f-c9b4-45d9-cf4a-b30e690c43d7"
      },
      "execution_count": 11,
      "outputs": [
        {
          "output_type": "execute_result",
          "data": {
            "text/plain": [
              "                   ApplicantIncome  CoapplicantIncome  LoanAmount  \\\n",
              "ApplicantIncome           1.000000          -0.110335    0.493451   \n",
              "CoapplicantIncome        -0.110335           1.000000    0.150850   \n",
              "LoanAmount                0.493451           0.150850    1.000000   \n",
              "Loan_Amount_Term          0.023249          -0.010984    0.094950   \n",
              "Credit_History            0.099553          -0.071235   -0.012578   \n",
              "Loan Approved            -0.021545          -0.029227    0.031348   \n",
              "\n",
              "                   Loan_Amount_Term  Credit_History  Loan Approved  \n",
              "ApplicantIncome            0.023249        0.099553      -0.021545  \n",
              "CoapplicantIncome         -0.010984       -0.071235      -0.029227  \n",
              "LoanAmount                 0.094950       -0.012578       0.031348  \n",
              "Loan_Amount_Term           1.000000       -0.053593       0.001651  \n",
              "Credit_History            -0.053593        1.000000      -0.024601  \n",
              "Loan Approved              0.001651       -0.024601       1.000000  "
            ],
            "text/html": [
              "\n",
              "  <div id=\"df-f8f7205b-fcc6-4343-ae45-7891114fa8ff\">\n",
              "    <div class=\"colab-df-container\">\n",
              "      <div>\n",
              "<style scoped>\n",
              "    .dataframe tbody tr th:only-of-type {\n",
              "        vertical-align: middle;\n",
              "    }\n",
              "\n",
              "    .dataframe tbody tr th {\n",
              "        vertical-align: top;\n",
              "    }\n",
              "\n",
              "    .dataframe thead th {\n",
              "        text-align: right;\n",
              "    }\n",
              "</style>\n",
              "<table border=\"1\" class=\"dataframe\">\n",
              "  <thead>\n",
              "    <tr style=\"text-align: right;\">\n",
              "      <th></th>\n",
              "      <th>ApplicantIncome</th>\n",
              "      <th>CoapplicantIncome</th>\n",
              "      <th>LoanAmount</th>\n",
              "      <th>Loan_Amount_Term</th>\n",
              "      <th>Credit_History</th>\n",
              "      <th>Loan Approved</th>\n",
              "    </tr>\n",
              "  </thead>\n",
              "  <tbody>\n",
              "    <tr>\n",
              "      <th>ApplicantIncome</th>\n",
              "      <td>1.000000</td>\n",
              "      <td>-0.110335</td>\n",
              "      <td>0.493451</td>\n",
              "      <td>0.023249</td>\n",
              "      <td>0.099553</td>\n",
              "      <td>-0.021545</td>\n",
              "    </tr>\n",
              "    <tr>\n",
              "      <th>CoapplicantIncome</th>\n",
              "      <td>-0.110335</td>\n",
              "      <td>1.000000</td>\n",
              "      <td>0.150850</td>\n",
              "      <td>-0.010984</td>\n",
              "      <td>-0.071235</td>\n",
              "      <td>-0.029227</td>\n",
              "    </tr>\n",
              "    <tr>\n",
              "      <th>LoanAmount</th>\n",
              "      <td>0.493451</td>\n",
              "      <td>0.150850</td>\n",
              "      <td>1.000000</td>\n",
              "      <td>0.094950</td>\n",
              "      <td>-0.012578</td>\n",
              "      <td>0.031348</td>\n",
              "    </tr>\n",
              "    <tr>\n",
              "      <th>Loan_Amount_Term</th>\n",
              "      <td>0.023249</td>\n",
              "      <td>-0.010984</td>\n",
              "      <td>0.094950</td>\n",
              "      <td>1.000000</td>\n",
              "      <td>-0.053593</td>\n",
              "      <td>0.001651</td>\n",
              "    </tr>\n",
              "    <tr>\n",
              "      <th>Credit_History</th>\n",
              "      <td>0.099553</td>\n",
              "      <td>-0.071235</td>\n",
              "      <td>-0.012578</td>\n",
              "      <td>-0.053593</td>\n",
              "      <td>1.000000</td>\n",
              "      <td>-0.024601</td>\n",
              "    </tr>\n",
              "    <tr>\n",
              "      <th>Loan Approved</th>\n",
              "      <td>-0.021545</td>\n",
              "      <td>-0.029227</td>\n",
              "      <td>0.031348</td>\n",
              "      <td>0.001651</td>\n",
              "      <td>-0.024601</td>\n",
              "      <td>1.000000</td>\n",
              "    </tr>\n",
              "  </tbody>\n",
              "</table>\n",
              "</div>\n",
              "      <button class=\"colab-df-convert\" onclick=\"convertToInteractive('df-f8f7205b-fcc6-4343-ae45-7891114fa8ff')\"\n",
              "              title=\"Convert this dataframe to an interactive table.\"\n",
              "              style=\"display:none;\">\n",
              "        \n",
              "  <svg xmlns=\"http://www.w3.org/2000/svg\" height=\"24px\"viewBox=\"0 0 24 24\"\n",
              "       width=\"24px\">\n",
              "    <path d=\"M0 0h24v24H0V0z\" fill=\"none\"/>\n",
              "    <path d=\"M18.56 5.44l.94 2.06.94-2.06 2.06-.94-2.06-.94-.94-2.06-.94 2.06-2.06.94zm-11 1L8.5 8.5l.94-2.06 2.06-.94-2.06-.94L8.5 2.5l-.94 2.06-2.06.94zm10 10l.94 2.06.94-2.06 2.06-.94-2.06-.94-.94-2.06-.94 2.06-2.06.94z\"/><path d=\"M17.41 7.96l-1.37-1.37c-.4-.4-.92-.59-1.43-.59-.52 0-1.04.2-1.43.59L10.3 9.45l-7.72 7.72c-.78.78-.78 2.05 0 2.83L4 21.41c.39.39.9.59 1.41.59.51 0 1.02-.2 1.41-.59l7.78-7.78 2.81-2.81c.8-.78.8-2.07 0-2.86zM5.41 20L4 18.59l7.72-7.72 1.47 1.35L5.41 20z\"/>\n",
              "  </svg>\n",
              "      </button>\n",
              "      \n",
              "  <style>\n",
              "    .colab-df-container {\n",
              "      display:flex;\n",
              "      flex-wrap:wrap;\n",
              "      gap: 12px;\n",
              "    }\n",
              "\n",
              "    .colab-df-convert {\n",
              "      background-color: #E8F0FE;\n",
              "      border: none;\n",
              "      border-radius: 50%;\n",
              "      cursor: pointer;\n",
              "      display: none;\n",
              "      fill: #1967D2;\n",
              "      height: 32px;\n",
              "      padding: 0 0 0 0;\n",
              "      width: 32px;\n",
              "    }\n",
              "\n",
              "    .colab-df-convert:hover {\n",
              "      background-color: #E2EBFA;\n",
              "      box-shadow: 0px 1px 2px rgba(60, 64, 67, 0.3), 0px 1px 3px 1px rgba(60, 64, 67, 0.15);\n",
              "      fill: #174EA6;\n",
              "    }\n",
              "\n",
              "    [theme=dark] .colab-df-convert {\n",
              "      background-color: #3B4455;\n",
              "      fill: #D2E3FC;\n",
              "    }\n",
              "\n",
              "    [theme=dark] .colab-df-convert:hover {\n",
              "      background-color: #434B5C;\n",
              "      box-shadow: 0px 1px 3px 1px rgba(0, 0, 0, 0.15);\n",
              "      filter: drop-shadow(0px 1px 2px rgba(0, 0, 0, 0.3));\n",
              "      fill: #FFFFFF;\n",
              "    }\n",
              "  </style>\n",
              "\n",
              "      <script>\n",
              "        const buttonEl =\n",
              "          document.querySelector('#df-f8f7205b-fcc6-4343-ae45-7891114fa8ff button.colab-df-convert');\n",
              "        buttonEl.style.display =\n",
              "          google.colab.kernel.accessAllowed ? 'block' : 'none';\n",
              "\n",
              "        async function convertToInteractive(key) {\n",
              "          const element = document.querySelector('#df-f8f7205b-fcc6-4343-ae45-7891114fa8ff');\n",
              "          const dataTable =\n",
              "            await google.colab.kernel.invokeFunction('convertToInteractive',\n",
              "                                                     [key], {});\n",
              "          if (!dataTable) return;\n",
              "\n",
              "          const docLinkHtml = 'Like what you see? Visit the ' +\n",
              "            '<a target=\"_blank\" href=https://colab.research.google.com/notebooks/data_table.ipynb>data table notebook</a>'\n",
              "            + ' to learn more about interactive tables.';\n",
              "          element.innerHTML = '';\n",
              "          dataTable['output_type'] = 'display_data';\n",
              "          await google.colab.output.renderOutput(dataTable, element);\n",
              "          const docLink = document.createElement('div');\n",
              "          docLink.innerHTML = docLinkHtml;\n",
              "          element.appendChild(docLink);\n",
              "        }\n",
              "      </script>\n",
              "    </div>\n",
              "  </div>\n",
              "  "
            ]
          },
          "metadata": {},
          "execution_count": 11
        }
      ]
    },
    {
      "cell_type": "code",
      "source": [
        "\n",
        "data.drop(columns=['Loan_ID'],inplace=True)\n"
      ],
      "metadata": {
        "id": "K7E4rQ1wI6Eo"
      },
      "execution_count": 13,
      "outputs": []
    },
    {
      "cell_type": "code",
      "source": [
        "rfc = RandomForestClassifier(random_state=5,class_weight=\"balanced\").fit(X_train,y_train)\n",
        "\n",
        "classification_metrics(y_test,rfc.predict(X_test))\n",
        "pd.DataFrame(rfc.feature_importances_,index=X_test.columns,columns=['importance']).sort_values(by='importance').plot.barh()\n",
        "plt.show()"
      ],
      "metadata": {
        "colab": {
          "base_uri": "https://localhost:8080/",
          "height": 235
        },
        "id": "yU5T2lJuJCfn",
        "outputId": "d1fe3401-ba59-4b4f-aa87-d2c11c15f733"
      },
      "execution_count": 15,
      "outputs": [
        {
          "output_type": "error",
          "ename": "NameError",
          "evalue": "ignored",
          "traceback": [
            "\u001b[0;31m---------------------------------------------------------------------------\u001b[0m",
            "\u001b[0;31mNameError\u001b[0m                                 Traceback (most recent call last)",
            "\u001b[0;32m<ipython-input-15-66552f30a1be>\u001b[0m in \u001b[0;36m<module>\u001b[0;34m()\u001b[0m\n\u001b[0;32m----> 1\u001b[0;31m \u001b[0mrfc\u001b[0m \u001b[0;34m=\u001b[0m \u001b[0mRandomForestClassifier\u001b[0m\u001b[0;34m(\u001b[0m\u001b[0mrandom_state\u001b[0m\u001b[0;34m=\u001b[0m\u001b[0;36m5\u001b[0m\u001b[0;34m,\u001b[0m\u001b[0mclass_weight\u001b[0m\u001b[0;34m=\u001b[0m\u001b[0;34m\"balanced\"\u001b[0m\u001b[0;34m)\u001b[0m\u001b[0;34m.\u001b[0m\u001b[0mfit\u001b[0m\u001b[0;34m(\u001b[0m\u001b[0mX_train\u001b[0m\u001b[0;34m,\u001b[0m\u001b[0my_train\u001b[0m\u001b[0;34m)\u001b[0m\u001b[0;34m\u001b[0m\u001b[0;34m\u001b[0m\u001b[0m\n\u001b[0m\u001b[1;32m      2\u001b[0m \u001b[0;34m\u001b[0m\u001b[0m\n\u001b[1;32m      3\u001b[0m \u001b[0mclassification_metrics\u001b[0m\u001b[0;34m(\u001b[0m\u001b[0my_test\u001b[0m\u001b[0;34m,\u001b[0m\u001b[0mrfc\u001b[0m\u001b[0;34m.\u001b[0m\u001b[0mpredict\u001b[0m\u001b[0;34m(\u001b[0m\u001b[0mX_test\u001b[0m\u001b[0;34m)\u001b[0m\u001b[0;34m)\u001b[0m\u001b[0;34m\u001b[0m\u001b[0;34m\u001b[0m\u001b[0m\n\u001b[1;32m      4\u001b[0m \u001b[0mpd\u001b[0m\u001b[0;34m.\u001b[0m\u001b[0mDataFrame\u001b[0m\u001b[0;34m(\u001b[0m\u001b[0mrfc\u001b[0m\u001b[0;34m.\u001b[0m\u001b[0mfeature_importances_\u001b[0m\u001b[0;34m,\u001b[0m\u001b[0mindex\u001b[0m\u001b[0;34m=\u001b[0m\u001b[0mX_test\u001b[0m\u001b[0;34m.\u001b[0m\u001b[0mcolumns\u001b[0m\u001b[0;34m,\u001b[0m\u001b[0mcolumns\u001b[0m\u001b[0;34m=\u001b[0m\u001b[0;34m[\u001b[0m\u001b[0;34m'importance'\u001b[0m\u001b[0;34m]\u001b[0m\u001b[0;34m)\u001b[0m\u001b[0;34m.\u001b[0m\u001b[0msort_values\u001b[0m\u001b[0;34m(\u001b[0m\u001b[0mby\u001b[0m\u001b[0;34m=\u001b[0m\u001b[0;34m'importance'\u001b[0m\u001b[0;34m)\u001b[0m\u001b[0;34m.\u001b[0m\u001b[0mplot\u001b[0m\u001b[0;34m.\u001b[0m\u001b[0mbarh\u001b[0m\u001b[0;34m(\u001b[0m\u001b[0;34m)\u001b[0m\u001b[0;34m\u001b[0m\u001b[0;34m\u001b[0m\u001b[0m\n\u001b[1;32m      5\u001b[0m \u001b[0mplt\u001b[0m\u001b[0;34m.\u001b[0m\u001b[0mshow\u001b[0m\u001b[0;34m(\u001b[0m\u001b[0;34m)\u001b[0m\u001b[0;34m\u001b[0m\u001b[0;34m\u001b[0m\u001b[0m\n",
            "\u001b[0;31mNameError\u001b[0m: name 'X_train' is not defined"
          ]
        }
      ]
    },
    {
      "cell_type": "code",
      "source": [
        ""
      ],
      "metadata": {
        "id": "1VUWLrA0JF3y"
      },
      "execution_count": null,
      "outputs": []
    },
    {
      "cell_type": "code",
      "source": [
        "df = DecisionTreeClassifier(random_state=5)\n",
        "tree = df.fit(X_s,y_s)\n",
        "\n",
        "classification_metrics(y_test,tree.predict(X_test))"
      ],
      "metadata": {
        "colab": {
          "base_uri": "https://localhost:8080/",
          "height": 217
        },
        "id": "CcsPZcMIhTq_",
        "outputId": "697270fc-d6fb-445b-d750-a3bcb1c6eca3"
      },
      "execution_count": 12,
      "outputs": [
        {
          "output_type": "error",
          "ename": "NameError",
          "evalue": "ignored",
          "traceback": [
            "\u001b[0;31m---------------------------------------------------------------------------\u001b[0m",
            "\u001b[0;31mNameError\u001b[0m                                 Traceback (most recent call last)",
            "\u001b[0;32m<ipython-input-12-274e6a9ae5e5>\u001b[0m in \u001b[0;36m<module>\u001b[0;34m()\u001b[0m\n\u001b[1;32m      1\u001b[0m \u001b[0mdf\u001b[0m \u001b[0;34m=\u001b[0m \u001b[0mDecisionTreeClassifier\u001b[0m\u001b[0;34m(\u001b[0m\u001b[0mrandom_state\u001b[0m\u001b[0;34m=\u001b[0m\u001b[0;36m5\u001b[0m\u001b[0;34m)\u001b[0m\u001b[0;34m\u001b[0m\u001b[0;34m\u001b[0m\u001b[0m\n\u001b[0;32m----> 2\u001b[0;31m \u001b[0mtree\u001b[0m \u001b[0;34m=\u001b[0m \u001b[0mdf\u001b[0m\u001b[0;34m.\u001b[0m\u001b[0mfit\u001b[0m\u001b[0;34m(\u001b[0m\u001b[0mX_s\u001b[0m\u001b[0;34m,\u001b[0m\u001b[0my_s\u001b[0m\u001b[0;34m)\u001b[0m\u001b[0;34m\u001b[0m\u001b[0;34m\u001b[0m\u001b[0m\n\u001b[0m\u001b[1;32m      3\u001b[0m \u001b[0;34m\u001b[0m\u001b[0m\n\u001b[1;32m      4\u001b[0m \u001b[0mclassification_metrics\u001b[0m\u001b[0;34m(\u001b[0m\u001b[0my_test\u001b[0m\u001b[0;34m,\u001b[0m\u001b[0mtree\u001b[0m\u001b[0;34m.\u001b[0m\u001b[0mpredict\u001b[0m\u001b[0;34m(\u001b[0m\u001b[0mX_test\u001b[0m\u001b[0;34m)\u001b[0m\u001b[0;34m)\u001b[0m\u001b[0;34m\u001b[0m\u001b[0;34m\u001b[0m\u001b[0m\n",
            "\u001b[0;31mNameError\u001b[0m: name 'X_s' is not defined"
          ]
        }
      ]
    },
    {
      "cell_type": "code",
      "source": [
        "X_train1,X_test1 = X_train[::],X_test[::]\n",
        "\n",
        "X_train1['Total Income'] = X_train['ApplicantIncome'] + X_train['CoapplicantIncome']\n",
        "# X_train1['Credibility'] = X_train['LoanAmount'] / X_train1['Total Income']\n",
        "X_test1['Total Income'] = X_test['ApplicantIncome'] + X_test['CoapplicantIncome']\n",
        "# X_test1['Credibility'] = X_test['LoanAmount'] / X_test1['Total Income']\n",
        "\n",
        "X_train1.drop(columns=['ApplicantIncome','CoapplicantIncome'],inplace=True)\n",
        "X_test1.drop(columns=['ApplicantIncome','CoapplicantIncome'],inplace=True)\n",
        "\n",
        "#random forest with new feature\n",
        "rfc = RandomForestClassifier(random_state=5).fit(X_train1,y_train)\n",
        "\n",
        "classification_metrics(y_test,rfc.predict(X_test1))\n",
        "\n",
        "pd.DataFrame(rfc.feature_importances_,index=X_test1.columns,columns=['importance']).sort_values(by='importance').plot.barh()\n",
        "plt.show()"
      ],
      "metadata": {
        "colab": {
          "base_uri": "https://localhost:8080/",
          "height": 235
        },
        "id": "1CuwB2kRJ1Mv",
        "outputId": "1164fb13-afe1-44d6-c3f2-29e209420b0a"
      },
      "execution_count": 19,
      "outputs": [
        {
          "output_type": "error",
          "ename": "NameError",
          "evalue": "ignored",
          "traceback": [
            "\u001b[0;31m---------------------------------------------------------------------------\u001b[0m",
            "\u001b[0;31mNameError\u001b[0m                                 Traceback (most recent call last)",
            "\u001b[0;32m<ipython-input-19-5ba72b90ceac>\u001b[0m in \u001b[0;36m<module>\u001b[0;34m()\u001b[0m\n\u001b[0;32m----> 1\u001b[0;31m \u001b[0mX_train1\u001b[0m\u001b[0;34m,\u001b[0m\u001b[0mX_test1\u001b[0m \u001b[0;34m=\u001b[0m \u001b[0mX_train\u001b[0m\u001b[0;34m[\u001b[0m\u001b[0;34m:\u001b[0m\u001b[0;34m:\u001b[0m\u001b[0;34m]\u001b[0m\u001b[0;34m,\u001b[0m\u001b[0mX_test\u001b[0m\u001b[0;34m[\u001b[0m\u001b[0;34m:\u001b[0m\u001b[0;34m:\u001b[0m\u001b[0;34m]\u001b[0m\u001b[0;34m\u001b[0m\u001b[0;34m\u001b[0m\u001b[0m\n\u001b[0m\u001b[1;32m      2\u001b[0m \u001b[0;34m\u001b[0m\u001b[0m\n\u001b[1;32m      3\u001b[0m \u001b[0mX_train1\u001b[0m\u001b[0;34m[\u001b[0m\u001b[0;34m'Total Income'\u001b[0m\u001b[0;34m]\u001b[0m \u001b[0;34m=\u001b[0m \u001b[0mX_train\u001b[0m\u001b[0;34m[\u001b[0m\u001b[0;34m'ApplicantIncome'\u001b[0m\u001b[0;34m]\u001b[0m \u001b[0;34m+\u001b[0m \u001b[0mX_train\u001b[0m\u001b[0;34m[\u001b[0m\u001b[0;34m'CoapplicantIncome'\u001b[0m\u001b[0;34m]\u001b[0m\u001b[0;34m\u001b[0m\u001b[0;34m\u001b[0m\u001b[0m\n\u001b[1;32m      4\u001b[0m \u001b[0;31m# X_train1['Credibility'] = X_train['LoanAmount'] / X_train1['Total Income']\u001b[0m\u001b[0;34m\u001b[0m\u001b[0;34m\u001b[0m\u001b[0;34m\u001b[0m\u001b[0m\n\u001b[1;32m      5\u001b[0m \u001b[0mX_test1\u001b[0m\u001b[0;34m[\u001b[0m\u001b[0;34m'Total Income'\u001b[0m\u001b[0;34m]\u001b[0m \u001b[0;34m=\u001b[0m \u001b[0mX_test\u001b[0m\u001b[0;34m[\u001b[0m\u001b[0;34m'ApplicantIncome'\u001b[0m\u001b[0;34m]\u001b[0m \u001b[0;34m+\u001b[0m \u001b[0mX_test\u001b[0m\u001b[0;34m[\u001b[0m\u001b[0;34m'CoapplicantIncome'\u001b[0m\u001b[0;34m]\u001b[0m\u001b[0;34m\u001b[0m\u001b[0;34m\u001b[0m\u001b[0m\n",
            "\u001b[0;31mNameError\u001b[0m: name 'X_train' is not defined"
          ]
        }
      ]
    },
    {
      "cell_type": "code",
      "source": [
        "def objective(space):\n",
        "    \n",
        "    rfc = RandomForestClassifier(\n",
        "        random_state=5,\n",
        "        class_weight=\"balanced\",\n",
        "        max_depth = space['max_depth']\n",
        "    ).fit(X_train,y_train)\n",
        "\n",
        "    f1 = f1_score(y_test,rfc.predict(X_test))\n",
        "    \n",
        "    # return needs to be in this below format. \n",
        "    # We use negative of accuracy since we want to maximize it.\n",
        "    return {'loss': -f1, 'status': STATUS_OK }\n",
        "# Using single parameter to show its use\n",
        "space = {\n",
        "    'max_depth': hp.quniform(\"x_max_depth\", 4, 16, 1),\n",
        "    }"
      ],
      "metadata": {
        "colab": {
          "base_uri": "https://localhost:8080/",
          "height": 217
        },
        "id": "V0uJn62WJ3LB",
        "outputId": "0d2bc3fb-ca5c-4b23-93e7-91ac2928c8cc"
      },
      "execution_count": 18,
      "outputs": [
        {
          "output_type": "error",
          "ename": "NameError",
          "evalue": "ignored",
          "traceback": [
            "\u001b[0;31m---------------------------------------------------------------------------\u001b[0m",
            "\u001b[0;31mNameError\u001b[0m                                 Traceback (most recent call last)",
            "\u001b[0;32m<ipython-input-18-5b29071a2437>\u001b[0m in \u001b[0;36m<module>\u001b[0;34m()\u001b[0m\n\u001b[1;32m     14\u001b[0m \u001b[0;31m# Using single parameter to show its use\u001b[0m\u001b[0;34m\u001b[0m\u001b[0;34m\u001b[0m\u001b[0;34m\u001b[0m\u001b[0m\n\u001b[1;32m     15\u001b[0m space = {\n\u001b[0;32m---> 16\u001b[0;31m     \u001b[0;34m'max_depth'\u001b[0m\u001b[0;34m:\u001b[0m \u001b[0mhp\u001b[0m\u001b[0;34m.\u001b[0m\u001b[0mquniform\u001b[0m\u001b[0;34m(\u001b[0m\u001b[0;34m\"x_max_depth\"\u001b[0m\u001b[0;34m,\u001b[0m \u001b[0;36m4\u001b[0m\u001b[0;34m,\u001b[0m \u001b[0;36m16\u001b[0m\u001b[0;34m,\u001b[0m \u001b[0;36m1\u001b[0m\u001b[0;34m)\u001b[0m\u001b[0;34m,\u001b[0m\u001b[0;34m\u001b[0m\u001b[0;34m\u001b[0m\u001b[0m\n\u001b[0m\u001b[1;32m     17\u001b[0m     }\n",
            "\u001b[0;31mNameError\u001b[0m: name 'hp' is not defined"
          ]
        }
      ]
    },
    {
      "cell_type": "code",
      "source": [
        "rfc = RandomForestClassifier(\n",
        "    random_state=5,\n",
        "    class_weight=\"balanced\",\n",
        "    max_depth = 9\n",
        ").fit(X_train,y_train)\n",
        "\n",
        "prediction = rfc.predict(X_test)"
      ],
      "metadata": {
        "colab": {
          "base_uri": "https://localhost:8080/",
          "height": 235
        },
        "id": "LJ-kjRIRJ-M3",
        "outputId": "cee9063e-5ad5-46a6-87f3-a4a4eca89095"
      },
      "execution_count": 22,
      "outputs": [
        {
          "output_type": "error",
          "ename": "NameError",
          "evalue": "ignored",
          "traceback": [
            "\u001b[0;31m---------------------------------------------------------------------------\u001b[0m",
            "\u001b[0;31mNameError\u001b[0m                                 Traceback (most recent call last)",
            "\u001b[0;32m<ipython-input-22-1250ee971b62>\u001b[0m in \u001b[0;36m<module>\u001b[0;34m()\u001b[0m\n\u001b[1;32m      3\u001b[0m     \u001b[0mclass_weight\u001b[0m\u001b[0;34m=\u001b[0m\u001b[0;34m\"balanced\"\u001b[0m\u001b[0;34m,\u001b[0m\u001b[0;34m\u001b[0m\u001b[0;34m\u001b[0m\u001b[0m\n\u001b[1;32m      4\u001b[0m     \u001b[0mmax_depth\u001b[0m \u001b[0;34m=\u001b[0m \u001b[0;36m9\u001b[0m\u001b[0;34m\u001b[0m\u001b[0;34m\u001b[0m\u001b[0m\n\u001b[0;32m----> 5\u001b[0;31m ).fit(X_train,y_train)\n\u001b[0m\u001b[1;32m      6\u001b[0m \u001b[0;34m\u001b[0m\u001b[0m\n\u001b[1;32m      7\u001b[0m \u001b[0mprediction\u001b[0m \u001b[0;34m=\u001b[0m \u001b[0mrfc\u001b[0m\u001b[0;34m.\u001b[0m\u001b[0mpredict\u001b[0m\u001b[0;34m(\u001b[0m\u001b[0mX_test\u001b[0m\u001b[0;34m)\u001b[0m\u001b[0;34m\u001b[0m\u001b[0;34m\u001b[0m\u001b[0m\n",
            "\u001b[0;31mNameError\u001b[0m: name 'X_train' is not defined"
          ]
        }
      ]
    },
    {
      "cell_type": "code",
      "source": [
        "submission.drop(columns = ['Unnamed: 0','Loan_ID'], inplace=True)\n",
        "predictions = rfc.predict(submission)"
      ],
      "metadata": {
        "id": "9Bzf7oG_KAzP"
      },
      "execution_count": null,
      "outputs": []
    },
    {
      "cell_type": "code",
      "source": [
        "submission['predictions'] = predictions"
      ],
      "metadata": {
        "id": "5JB65gaqKFqW"
      },
      "execution_count": null,
      "outputs": []
    },
    {
      "cell_type": "code",
      "source": [
        "submission[[\"predictions\"]].sample(10).style.background_gradient(cmap='Accent_r')"
      ],
      "metadata": {
        "colab": {
          "base_uri": "https://localhost:8080/",
          "height": 311
        },
        "id": "FHZGnY6JKHhw",
        "outputId": "9b5d3178-f918-4e89-88cb-5024ad4ec621"
      },
      "execution_count": 20,
      "outputs": [
        {
          "output_type": "error",
          "ename": "KeyError",
          "evalue": "ignored",
          "traceback": [
            "\u001b[0;31m---------------------------------------------------------------------------\u001b[0m",
            "\u001b[0;31mKeyError\u001b[0m                                  Traceback (most recent call last)",
            "\u001b[0;32m<ipython-input-20-094178dca7b9>\u001b[0m in \u001b[0;36m<module>\u001b[0;34m()\u001b[0m\n\u001b[0;32m----> 1\u001b[0;31m \u001b[0msubmission\u001b[0m\u001b[0;34m[\u001b[0m\u001b[0;34m[\u001b[0m\u001b[0;34m\"predictions\"\u001b[0m\u001b[0;34m]\u001b[0m\u001b[0;34m]\u001b[0m\u001b[0;34m.\u001b[0m\u001b[0msample\u001b[0m\u001b[0;34m(\u001b[0m\u001b[0;36m10\u001b[0m\u001b[0;34m)\u001b[0m\u001b[0;34m.\u001b[0m\u001b[0mstyle\u001b[0m\u001b[0;34m.\u001b[0m\u001b[0mbackground_gradient\u001b[0m\u001b[0;34m(\u001b[0m\u001b[0mcmap\u001b[0m\u001b[0;34m=\u001b[0m\u001b[0;34m'Accent_r'\u001b[0m\u001b[0;34m)\u001b[0m\u001b[0;34m\u001b[0m\u001b[0;34m\u001b[0m\u001b[0m\n\u001b[0m",
            "\u001b[0;32m/usr/local/lib/python3.7/dist-packages/pandas/core/frame.py\u001b[0m in \u001b[0;36m__getitem__\u001b[0;34m(self, key)\u001b[0m\n\u001b[1;32m   3462\u001b[0m             \u001b[0;32mif\u001b[0m \u001b[0mis_iterator\u001b[0m\u001b[0;34m(\u001b[0m\u001b[0mkey\u001b[0m\u001b[0;34m)\u001b[0m\u001b[0;34m:\u001b[0m\u001b[0;34m\u001b[0m\u001b[0;34m\u001b[0m\u001b[0m\n\u001b[1;32m   3463\u001b[0m                 \u001b[0mkey\u001b[0m \u001b[0;34m=\u001b[0m \u001b[0mlist\u001b[0m\u001b[0;34m(\u001b[0m\u001b[0mkey\u001b[0m\u001b[0;34m)\u001b[0m\u001b[0;34m\u001b[0m\u001b[0;34m\u001b[0m\u001b[0m\n\u001b[0;32m-> 3464\u001b[0;31m             \u001b[0mindexer\u001b[0m \u001b[0;34m=\u001b[0m \u001b[0mself\u001b[0m\u001b[0;34m.\u001b[0m\u001b[0mloc\u001b[0m\u001b[0;34m.\u001b[0m\u001b[0m_get_listlike_indexer\u001b[0m\u001b[0;34m(\u001b[0m\u001b[0mkey\u001b[0m\u001b[0;34m,\u001b[0m \u001b[0maxis\u001b[0m\u001b[0;34m=\u001b[0m\u001b[0;36m1\u001b[0m\u001b[0;34m)\u001b[0m\u001b[0;34m[\u001b[0m\u001b[0;36m1\u001b[0m\u001b[0;34m]\u001b[0m\u001b[0;34m\u001b[0m\u001b[0;34m\u001b[0m\u001b[0m\n\u001b[0m\u001b[1;32m   3465\u001b[0m \u001b[0;34m\u001b[0m\u001b[0m\n\u001b[1;32m   3466\u001b[0m         \u001b[0;31m# take() does not accept boolean indexers\u001b[0m\u001b[0;34m\u001b[0m\u001b[0;34m\u001b[0m\u001b[0;34m\u001b[0m\u001b[0m\n",
            "\u001b[0;32m/usr/local/lib/python3.7/dist-packages/pandas/core/indexing.py\u001b[0m in \u001b[0;36m_get_listlike_indexer\u001b[0;34m(self, key, axis)\u001b[0m\n\u001b[1;32m   1312\u001b[0m             \u001b[0mkeyarr\u001b[0m\u001b[0;34m,\u001b[0m \u001b[0mindexer\u001b[0m\u001b[0;34m,\u001b[0m \u001b[0mnew_indexer\u001b[0m \u001b[0;34m=\u001b[0m \u001b[0max\u001b[0m\u001b[0;34m.\u001b[0m\u001b[0m_reindex_non_unique\u001b[0m\u001b[0;34m(\u001b[0m\u001b[0mkeyarr\u001b[0m\u001b[0;34m)\u001b[0m\u001b[0;34m\u001b[0m\u001b[0;34m\u001b[0m\u001b[0m\n\u001b[1;32m   1313\u001b[0m \u001b[0;34m\u001b[0m\u001b[0m\n\u001b[0;32m-> 1314\u001b[0;31m         \u001b[0mself\u001b[0m\u001b[0;34m.\u001b[0m\u001b[0m_validate_read_indexer\u001b[0m\u001b[0;34m(\u001b[0m\u001b[0mkeyarr\u001b[0m\u001b[0;34m,\u001b[0m \u001b[0mindexer\u001b[0m\u001b[0;34m,\u001b[0m \u001b[0maxis\u001b[0m\u001b[0;34m)\u001b[0m\u001b[0;34m\u001b[0m\u001b[0;34m\u001b[0m\u001b[0m\n\u001b[0m\u001b[1;32m   1315\u001b[0m \u001b[0;34m\u001b[0m\u001b[0m\n\u001b[1;32m   1316\u001b[0m         if needs_i8_conversion(ax.dtype) or isinstance(\n",
            "\u001b[0;32m/usr/local/lib/python3.7/dist-packages/pandas/core/indexing.py\u001b[0m in \u001b[0;36m_validate_read_indexer\u001b[0;34m(self, key, indexer, axis)\u001b[0m\n\u001b[1;32m   1372\u001b[0m                 \u001b[0;32mif\u001b[0m \u001b[0muse_interval_msg\u001b[0m\u001b[0;34m:\u001b[0m\u001b[0;34m\u001b[0m\u001b[0;34m\u001b[0m\u001b[0m\n\u001b[1;32m   1373\u001b[0m                     \u001b[0mkey\u001b[0m \u001b[0;34m=\u001b[0m \u001b[0mlist\u001b[0m\u001b[0;34m(\u001b[0m\u001b[0mkey\u001b[0m\u001b[0;34m)\u001b[0m\u001b[0;34m\u001b[0m\u001b[0;34m\u001b[0m\u001b[0m\n\u001b[0;32m-> 1374\u001b[0;31m                 \u001b[0;32mraise\u001b[0m \u001b[0mKeyError\u001b[0m\u001b[0;34m(\u001b[0m\u001b[0;34mf\"None of [{key}] are in the [{axis_name}]\"\u001b[0m\u001b[0;34m)\u001b[0m\u001b[0;34m\u001b[0m\u001b[0;34m\u001b[0m\u001b[0m\n\u001b[0m\u001b[1;32m   1375\u001b[0m \u001b[0;34m\u001b[0m\u001b[0m\n\u001b[1;32m   1376\u001b[0m             \u001b[0mnot_found\u001b[0m \u001b[0;34m=\u001b[0m \u001b[0mlist\u001b[0m\u001b[0;34m(\u001b[0m\u001b[0mensure_index\u001b[0m\u001b[0;34m(\u001b[0m\u001b[0mkey\u001b[0m\u001b[0;34m)\u001b[0m\u001b[0;34m[\u001b[0m\u001b[0mmissing_mask\u001b[0m\u001b[0;34m.\u001b[0m\u001b[0mnonzero\u001b[0m\u001b[0;34m(\u001b[0m\u001b[0;34m)\u001b[0m\u001b[0;34m[\u001b[0m\u001b[0;36m0\u001b[0m\u001b[0;34m]\u001b[0m\u001b[0;34m]\u001b[0m\u001b[0;34m.\u001b[0m\u001b[0munique\u001b[0m\u001b[0;34m(\u001b[0m\u001b[0;34m)\u001b[0m\u001b[0;34m)\u001b[0m\u001b[0;34m\u001b[0m\u001b[0;34m\u001b[0m\u001b[0m\n",
            "\u001b[0;31mKeyError\u001b[0m: \"None of [Index(['predictions'], dtype='object')] are in the [columns]\""
          ]
        }
      ]
    }
  ]
}